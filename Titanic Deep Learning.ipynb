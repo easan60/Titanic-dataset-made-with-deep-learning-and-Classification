{
 "cells": [
  {
   "cell_type": "code",
   "execution_count": 1,
   "metadata": {},
   "outputs": [],
   "source": [
    "import numpy as np\n",
    "import pandas as pd\n",
    "import seaborn as sns\n",
    "import matplotlib.pyplot as plt\n",
    "%matplotlib inline\n",
    "import warnings\n",
    "warnings.filterwarnings(\"ignore\")\n",
    "from sklearn.model_selection import train_test_split\n",
    "pd.set_option(\"display.max_columns\",100)\n",
    "\n",
    "from tensorflow.keras.models import Sequential\n",
    "from tensorflow.keras.layers import Dense"
   ]
  },
  {
   "cell_type": "code",
   "execution_count": 2,
   "metadata": {},
   "outputs": [],
   "source": [
    "df1,df2=pd.read_csv(\"ttrain.csv\"),pd.read_csv(\"ttest.csv\")"
   ]
  },
  {
   "cell_type": "code",
   "execution_count": 3,
   "metadata": {},
   "outputs": [
    {
     "data": {
      "text/plain": [
       "((891, 12), (418, 11))"
      ]
     },
     "execution_count": 3,
     "metadata": {},
     "output_type": "execute_result"
    }
   ],
   "source": [
    "df1.shape,df2.shape"
   ]
  },
  {
   "cell_type": "code",
   "execution_count": 4,
   "metadata": {},
   "outputs": [],
   "source": [
    "df=pd.concat([df1,df2],ignore_index=True)"
   ]
  },
  {
   "cell_type": "code",
   "execution_count": 5,
   "metadata": {},
   "outputs": [
    {
     "data": {
      "text/html": [
       "<div>\n",
       "<style scoped>\n",
       "    .dataframe tbody tr th:only-of-type {\n",
       "        vertical-align: middle;\n",
       "    }\n",
       "\n",
       "    .dataframe tbody tr th {\n",
       "        vertical-align: top;\n",
       "    }\n",
       "\n",
       "    .dataframe thead th {\n",
       "        text-align: right;\n",
       "    }\n",
       "</style>\n",
       "<table border=\"1\" class=\"dataframe\">\n",
       "  <thead>\n",
       "    <tr style=\"text-align: right;\">\n",
       "      <th></th>\n",
       "      <th>PassengerId</th>\n",
       "      <th>Survived</th>\n",
       "      <th>Pclass</th>\n",
       "      <th>Name</th>\n",
       "      <th>Sex</th>\n",
       "      <th>Age</th>\n",
       "      <th>SibSp</th>\n",
       "      <th>Parch</th>\n",
       "      <th>Ticket</th>\n",
       "      <th>Fare</th>\n",
       "      <th>Cabin</th>\n",
       "      <th>Embarked</th>\n",
       "    </tr>\n",
       "  </thead>\n",
       "  <tbody>\n",
       "    <tr>\n",
       "      <th>0</th>\n",
       "      <td>1</td>\n",
       "      <td>0.0</td>\n",
       "      <td>3</td>\n",
       "      <td>Braund, Mr. Owen Harris</td>\n",
       "      <td>male</td>\n",
       "      <td>22.0</td>\n",
       "      <td>1</td>\n",
       "      <td>0</td>\n",
       "      <td>A/5 21171</td>\n",
       "      <td>7.2500</td>\n",
       "      <td>NaN</td>\n",
       "      <td>S</td>\n",
       "    </tr>\n",
       "    <tr>\n",
       "      <th>1</th>\n",
       "      <td>2</td>\n",
       "      <td>1.0</td>\n",
       "      <td>1</td>\n",
       "      <td>Cumings, Mrs. John Bradley (Florence Briggs Th...</td>\n",
       "      <td>female</td>\n",
       "      <td>38.0</td>\n",
       "      <td>1</td>\n",
       "      <td>0</td>\n",
       "      <td>PC 17599</td>\n",
       "      <td>71.2833</td>\n",
       "      <td>C85</td>\n",
       "      <td>C</td>\n",
       "    </tr>\n",
       "    <tr>\n",
       "      <th>2</th>\n",
       "      <td>3</td>\n",
       "      <td>1.0</td>\n",
       "      <td>3</td>\n",
       "      <td>Heikkinen, Miss. Laina</td>\n",
       "      <td>female</td>\n",
       "      <td>26.0</td>\n",
       "      <td>0</td>\n",
       "      <td>0</td>\n",
       "      <td>STON/O2. 3101282</td>\n",
       "      <td>7.9250</td>\n",
       "      <td>NaN</td>\n",
       "      <td>S</td>\n",
       "    </tr>\n",
       "    <tr>\n",
       "      <th>3</th>\n",
       "      <td>4</td>\n",
       "      <td>1.0</td>\n",
       "      <td>1</td>\n",
       "      <td>Futrelle, Mrs. Jacques Heath (Lily May Peel)</td>\n",
       "      <td>female</td>\n",
       "      <td>35.0</td>\n",
       "      <td>1</td>\n",
       "      <td>0</td>\n",
       "      <td>113803</td>\n",
       "      <td>53.1000</td>\n",
       "      <td>C123</td>\n",
       "      <td>S</td>\n",
       "    </tr>\n",
       "    <tr>\n",
       "      <th>4</th>\n",
       "      <td>5</td>\n",
       "      <td>0.0</td>\n",
       "      <td>3</td>\n",
       "      <td>Allen, Mr. William Henry</td>\n",
       "      <td>male</td>\n",
       "      <td>35.0</td>\n",
       "      <td>0</td>\n",
       "      <td>0</td>\n",
       "      <td>373450</td>\n",
       "      <td>8.0500</td>\n",
       "      <td>NaN</td>\n",
       "      <td>S</td>\n",
       "    </tr>\n",
       "  </tbody>\n",
       "</table>\n",
       "</div>"
      ],
      "text/plain": [
       "   PassengerId  Survived  Pclass  \\\n",
       "0            1       0.0       3   \n",
       "1            2       1.0       1   \n",
       "2            3       1.0       3   \n",
       "3            4       1.0       1   \n",
       "4            5       0.0       3   \n",
       "\n",
       "                                                Name     Sex   Age  SibSp  \\\n",
       "0                            Braund, Mr. Owen Harris    male  22.0      1   \n",
       "1  Cumings, Mrs. John Bradley (Florence Briggs Th...  female  38.0      1   \n",
       "2                             Heikkinen, Miss. Laina  female  26.0      0   \n",
       "3       Futrelle, Mrs. Jacques Heath (Lily May Peel)  female  35.0      1   \n",
       "4                           Allen, Mr. William Henry    male  35.0      0   \n",
       "\n",
       "   Parch            Ticket     Fare Cabin Embarked  \n",
       "0      0         A/5 21171   7.2500   NaN        S  \n",
       "1      0          PC 17599  71.2833   C85        C  \n",
       "2      0  STON/O2. 3101282   7.9250   NaN        S  \n",
       "3      0            113803  53.1000  C123        S  \n",
       "4      0            373450   8.0500   NaN        S  "
      ]
     },
     "execution_count": 5,
     "metadata": {},
     "output_type": "execute_result"
    }
   ],
   "source": [
    "df.head()"
   ]
  },
  {
   "cell_type": "code",
   "execution_count": 6,
   "metadata": {},
   "outputs": [
    {
     "data": {
      "text/html": [
       "<div>\n",
       "<style scoped>\n",
       "    .dataframe tbody tr th:only-of-type {\n",
       "        vertical-align: middle;\n",
       "    }\n",
       "\n",
       "    .dataframe tbody tr th {\n",
       "        vertical-align: top;\n",
       "    }\n",
       "\n",
       "    .dataframe thead th {\n",
       "        text-align: right;\n",
       "    }\n",
       "</style>\n",
       "<table border=\"1\" class=\"dataframe\">\n",
       "  <thead>\n",
       "    <tr style=\"text-align: right;\">\n",
       "      <th></th>\n",
       "      <th>PassengerId</th>\n",
       "      <th>Survived</th>\n",
       "      <th>Pclass</th>\n",
       "      <th>Name</th>\n",
       "      <th>Sex</th>\n",
       "      <th>Age</th>\n",
       "      <th>SibSp</th>\n",
       "      <th>Parch</th>\n",
       "      <th>Ticket</th>\n",
       "      <th>Fare</th>\n",
       "      <th>Cabin</th>\n",
       "      <th>Embarked</th>\n",
       "    </tr>\n",
       "  </thead>\n",
       "  <tbody>\n",
       "    <tr>\n",
       "      <th>1304</th>\n",
       "      <td>1305</td>\n",
       "      <td>NaN</td>\n",
       "      <td>3</td>\n",
       "      <td>Spector, Mr. Woolf</td>\n",
       "      <td>male</td>\n",
       "      <td>NaN</td>\n",
       "      <td>0</td>\n",
       "      <td>0</td>\n",
       "      <td>A.5. 3236</td>\n",
       "      <td>8.0500</td>\n",
       "      <td>NaN</td>\n",
       "      <td>S</td>\n",
       "    </tr>\n",
       "    <tr>\n",
       "      <th>1305</th>\n",
       "      <td>1306</td>\n",
       "      <td>NaN</td>\n",
       "      <td>1</td>\n",
       "      <td>Oliva y Ocana, Dona. Fermina</td>\n",
       "      <td>female</td>\n",
       "      <td>39.0</td>\n",
       "      <td>0</td>\n",
       "      <td>0</td>\n",
       "      <td>PC 17758</td>\n",
       "      <td>108.9000</td>\n",
       "      <td>C105</td>\n",
       "      <td>C</td>\n",
       "    </tr>\n",
       "    <tr>\n",
       "      <th>1306</th>\n",
       "      <td>1307</td>\n",
       "      <td>NaN</td>\n",
       "      <td>3</td>\n",
       "      <td>Saether, Mr. Simon Sivertsen</td>\n",
       "      <td>male</td>\n",
       "      <td>38.5</td>\n",
       "      <td>0</td>\n",
       "      <td>0</td>\n",
       "      <td>SOTON/O.Q. 3101262</td>\n",
       "      <td>7.2500</td>\n",
       "      <td>NaN</td>\n",
       "      <td>S</td>\n",
       "    </tr>\n",
       "    <tr>\n",
       "      <th>1307</th>\n",
       "      <td>1308</td>\n",
       "      <td>NaN</td>\n",
       "      <td>3</td>\n",
       "      <td>Ware, Mr. Frederick</td>\n",
       "      <td>male</td>\n",
       "      <td>NaN</td>\n",
       "      <td>0</td>\n",
       "      <td>0</td>\n",
       "      <td>359309</td>\n",
       "      <td>8.0500</td>\n",
       "      <td>NaN</td>\n",
       "      <td>S</td>\n",
       "    </tr>\n",
       "    <tr>\n",
       "      <th>1308</th>\n",
       "      <td>1309</td>\n",
       "      <td>NaN</td>\n",
       "      <td>3</td>\n",
       "      <td>Peter, Master. Michael J</td>\n",
       "      <td>male</td>\n",
       "      <td>NaN</td>\n",
       "      <td>1</td>\n",
       "      <td>1</td>\n",
       "      <td>2668</td>\n",
       "      <td>22.3583</td>\n",
       "      <td>NaN</td>\n",
       "      <td>C</td>\n",
       "    </tr>\n",
       "  </tbody>\n",
       "</table>\n",
       "</div>"
      ],
      "text/plain": [
       "      PassengerId  Survived  Pclass                          Name     Sex  \\\n",
       "1304         1305       NaN       3            Spector, Mr. Woolf    male   \n",
       "1305         1306       NaN       1  Oliva y Ocana, Dona. Fermina  female   \n",
       "1306         1307       NaN       3  Saether, Mr. Simon Sivertsen    male   \n",
       "1307         1308       NaN       3           Ware, Mr. Frederick    male   \n",
       "1308         1309       NaN       3      Peter, Master. Michael J    male   \n",
       "\n",
       "       Age  SibSp  Parch              Ticket      Fare Cabin Embarked  \n",
       "1304   NaN      0      0           A.5. 3236    8.0500   NaN        S  \n",
       "1305  39.0      0      0            PC 17758  108.9000  C105        C  \n",
       "1306  38.5      0      0  SOTON/O.Q. 3101262    7.2500   NaN        S  \n",
       "1307   NaN      0      0              359309    8.0500   NaN        S  \n",
       "1308   NaN      1      1                2668   22.3583   NaN        C  "
      ]
     },
     "execution_count": 6,
     "metadata": {},
     "output_type": "execute_result"
    }
   ],
   "source": [
    "df.tail()"
   ]
  },
  {
   "cell_type": "code",
   "execution_count": 7,
   "metadata": {},
   "outputs": [
    {
     "name": "stdout",
     "output_type": "stream",
     "text": [
      "<class 'pandas.core.frame.DataFrame'>\n",
      "RangeIndex: 1309 entries, 0 to 1308\n",
      "Data columns (total 12 columns):\n",
      " #   Column       Non-Null Count  Dtype  \n",
      "---  ------       --------------  -----  \n",
      " 0   PassengerId  1309 non-null   int64  \n",
      " 1   Survived     891 non-null    float64\n",
      " 2   Pclass       1309 non-null   int64  \n",
      " 3   Name         1309 non-null   object \n",
      " 4   Sex          1309 non-null   object \n",
      " 5   Age          1046 non-null   float64\n",
      " 6   SibSp        1309 non-null   int64  \n",
      " 7   Parch        1309 non-null   int64  \n",
      " 8   Ticket       1309 non-null   object \n",
      " 9   Fare         1308 non-null   float64\n",
      " 10  Cabin        295 non-null    object \n",
      " 11  Embarked     1307 non-null   object \n",
      "dtypes: float64(3), int64(4), object(5)\n",
      "memory usage: 122.8+ KB\n"
     ]
    }
   ],
   "source": [
    "df.info()"
   ]
  },
  {
   "cell_type": "code",
   "execution_count": 8,
   "metadata": {},
   "outputs": [
    {
     "data": {
      "text/plain": [
       "Kelly, Mr. James                                         2\n",
       "Connolly, Miss. Kate                                     2\n",
       "Bjorklund, Mr. Ernst Herbert                             1\n",
       "Abelson, Mrs. Samuel (Hannah Wizosky)                    1\n",
       "Palsson, Miss. Torborg Danira                            1\n",
       "                                                        ..\n",
       "Braund, Mr. Owen Harris                                  1\n",
       "Compton, Mrs. Alexander Taylor (Mary Eliza Ingersoll)    1\n",
       "Risien, Mr. Samuel Beard                                 1\n",
       "Danbom, Mr. Ernst Gilbert                                1\n",
       "Colley, Mr. Edward Pomeroy                               1\n",
       "Name: Name, Length: 1307, dtype: int64"
      ]
     },
     "execution_count": 8,
     "metadata": {},
     "output_type": "execute_result"
    }
   ],
   "source": [
    "df.Name.value_counts()"
   ]
  },
  {
   "cell_type": "code",
   "execution_count": 9,
   "metadata": {},
   "outputs": [],
   "source": [
    "df[\"Title\"]=df[\"Name\"].str.extract(\"([A-Za-z]+)\\.\",expand=False)\n",
    "df['Title']=df['Title'].replace(['Ms','Mlle'],'Miss')\n",
    "df['Title']=df['Title'].replace(['Mme','Countess','Lady','Dona'],'Mrs')\n",
    "df['Title']=df['Title'].replace(['Dr','Major','Col','Capt','Sir','Rev','Jonkheer','Don'],'Mr')"
   ]
  },
  {
   "cell_type": "code",
   "execution_count": 10,
   "metadata": {},
   "outputs": [
    {
     "data": {
      "text/plain": [
       "<AxesSubplot:xlabel='Title', ylabel='count'>"
      ]
     },
     "execution_count": 10,
     "metadata": {},
     "output_type": "execute_result"
    },
    {
     "data": {
      "image/png": "[encoded data removed]",
      "text/plain": [
       "<Figure size 432x288 with 1 Axes>"
      ]
     },
     "metadata": {
      "needs_background": "light"
     },
     "output_type": "display_data"
    }
   ],
   "source": [
    "df['Title'].value_counts()\n",
    "sns.countplot(df[\"Title\"])"
   ]
  },
  {
   "cell_type": "code",
   "execution_count": 11,
   "metadata": {},
   "outputs": [
    {
     "data": {
      "text/plain": [
       "<AxesSubplot:xlabel='Senior', ylabel='count'>"
      ]
     },
     "execution_count": 11,
     "metadata": {},
     "output_type": "execute_result"
    },
    {
     "data": {
      "image/png": "[encoded data removed]",
      "text/plain": [
       "<Figure size 432x288 with 1 Axes>"
      ]
     },
     "metadata": {
      "needs_background": "light"
     },
     "output_type": "display_data"
    }
   ],
   "source": [
    "df[\"Senior\"]=df[\"Age\"].map(lambda s:1 if s>70 else 0)\n",
    "sns.countplot(df[\"Senior\"])"
   ]
  },
  {
   "cell_type": "code",
   "execution_count": 12,
   "metadata": {},
   "outputs": [
    {
     "data": {
      "text/plain": [
       "PassengerId       0\n",
       "Survived        418\n",
       "Pclass            0\n",
       "Name              0\n",
       "Sex               0\n",
       "Age             263\n",
       "SibSp             0\n",
       "Parch             0\n",
       "Ticket            0\n",
       "Fare              1\n",
       "Cabin          1014\n",
       "Embarked          2\n",
       "Title             0\n",
       "Senior            0\n",
       "dtype: int64"
      ]
     },
     "execution_count": 12,
     "metadata": {},
     "output_type": "execute_result"
    }
   ],
   "source": [
    "df.isnull().sum()"
   ]
  },
  {
   "cell_type": "code",
   "execution_count": 13,
   "metadata": {},
   "outputs": [
    {
     "data": {
      "text/plain": [
       "<AxesSubplot:xlabel='Title'>"
      ]
     },
     "execution_count": 13,
     "metadata": {},
     "output_type": "execute_result"
    },
    {
     "data": {
      "image/png": "[encoded data removed]",
      "text/plain": [
       "<Figure size 432x288 with 1 Axes>"
      ]
     },
     "metadata": {
      "needs_background": "light"
     },
     "output_type": "display_data"
    }
   ],
   "source": [
    "#Age'i ortalama değerleri ile dolduralım\n",
    "df[\"Age\"].fillna(df.groupby(\"Title\")[\"Age\"].transform(\"median\"),inplace=True)\n",
    "df.groupby(\"Title\")[\"Age\"].median().plot.bar()"
   ]
  },
  {
   "cell_type": "code",
   "execution_count": 14,
   "metadata": {},
   "outputs": [],
   "source": [
    "del df[\"Cabin\"]"
   ]
  },
  {
   "cell_type": "code",
   "execution_count": 15,
   "metadata": {},
   "outputs": [],
   "source": [
    "df[\"Fare\"].fillna(df[\"Fare\"].median(),inplace=True)"
   ]
  },
  {
   "cell_type": "code",
   "execution_count": 16,
   "metadata": {},
   "outputs": [],
   "source": [
    "df['Family']=df['SibSp']+df['Parch']+1"
   ]
  },
  {
   "cell_type": "code",
   "execution_count": 17,
   "metadata": {},
   "outputs": [
    {
     "data": {
      "text/plain": [
       "<AxesSubplot:xlabel='Embarked', ylabel='count'>"
      ]
     },
     "execution_count": 17,
     "metadata": {},
     "output_type": "execute_result"
    },
    {
     "data": {
      "image/png": "[encoded data removed]",
      "text/plain": [
       "<Figure size 432x288 with 1 Axes>"
      ]
     },
     "metadata": {
      "needs_background": "light"
     },
     "output_type": "display_data"
    }
   ],
   "source": [
    "sns.countplot(df[\"Embarked\"],hue=df[\"Survived\"])"
   ]
  },
  {
   "cell_type": "code",
   "execution_count": 18,
   "metadata": {},
   "outputs": [],
   "source": [
    "df[\"Embarked\"]=df[\"Embarked\"].fillna(\"S\")"
   ]
  },
  {
   "cell_type": "code",
   "execution_count": 19,
   "metadata": {},
   "outputs": [
    {
     "data": {
      "text/plain": [
       "<AxesSubplot:xlabel='Age', ylabel='Count'>"
      ]
     },
     "execution_count": 19,
     "metadata": {},
     "output_type": "execute_result"
    },
    {
     "data": {
      "image/png": "[encoded data removed]",
      "text/plain": [
       "<Figure size 432x288 with 1 Axes>"
      ]
     },
     "metadata": {
      "needs_background": "light"
     },
     "output_type": "display_data"
    }
   ],
   "source": [
    "sns.histplot(df[\"Age\"],kde=True)"
   ]
  },
  {
   "cell_type": "code",
   "execution_count": 20,
   "metadata": {
    "scrolled": true
   },
   "outputs": [
    {
     "data": {
      "text/plain": [
       "<AxesSubplot:xlabel='Family', ylabel='Count'>"
      ]
     },
     "execution_count": 20,
     "metadata": {},
     "output_type": "execute_result"
    },
    {
     "data": {
      "image/png": "[encoded data removed]",
      "text/plain": [
       "<Figure size 432x288 with 1 Axes>"
      ]
     },
     "metadata": {
      "needs_background": "light"
     },
     "output_type": "display_data"
    }
   ],
   "source": [
    "sns.histplot(df[\"Family\"],kde=True)"
   ]
  },
  {
   "cell_type": "code",
   "execution_count": 21,
   "metadata": {},
   "outputs": [],
   "source": [
    "df.drop(['Ticket'],axis=1,inplace=True)"
   ]
  },
  {
   "cell_type": "code",
   "execution_count": 22,
   "metadata": {},
   "outputs": [],
   "source": [
    "df.drop(\"Name\",axis=1,inplace=True)"
   ]
  },
  {
   "cell_type": "code",
   "execution_count": 23,
   "metadata": {},
   "outputs": [],
   "source": [
    "df=pd.get_dummies(df,drop_first=True)"
   ]
  },
  {
   "cell_type": "code",
   "execution_count": 24,
   "metadata": {},
   "outputs": [
    {
     "data": {
      "text/plain": [
       "(1309, 15)"
      ]
     },
     "execution_count": 24,
     "metadata": {},
     "output_type": "execute_result"
    }
   ],
   "source": [
    "df.shape"
   ]
  },
  {
   "cell_type": "code",
   "execution_count": 25,
   "metadata": {},
   "outputs": [],
   "source": [
    "x,y=df[:891].drop(\"Survived\",axis=1),df[:891][[\"Survived\"]]"
   ]
  },
  {
   "cell_type": "code",
   "execution_count": 26,
   "metadata": {},
   "outputs": [
    {
     "data": {
      "text/plain": [
       "((891, 14), (891, 1))"
      ]
     },
     "execution_count": 26,
     "metadata": {},
     "output_type": "execute_result"
    }
   ],
   "source": [
    "x.shape,y.shape"
   ]
  },
  {
   "cell_type": "code",
   "execution_count": 27,
   "metadata": {},
   "outputs": [],
   "source": [
    "#pip install tensorflow"
   ]
  },
  {
   "cell_type": "code",
   "execution_count": 28,
   "metadata": {},
   "outputs": [],
   "source": [
    "#pip install keras"
   ]
  },
  {
   "cell_type": "code",
   "execution_count": 29,
   "metadata": {},
   "outputs": [],
   "source": [
    "#Modeller için fonksiyon yazıldı\n",
    "def result_func(model,count):\n",
    "    predict_x=model.predict(df[891:].drop(\"Survived\",axis=1))\n",
    "    result_dataset=pd.DataFrame()\n",
    "    result_dataset[\"PassengerId\"]=df[891:][\"PassengerId\"]\n",
    "    result_dataset[\"Predict\"]=predict_x\n",
    "    result_dataset[\"Survived\"]=result_dataset[\"Predict\"].map(lambda s:1 if s>=0.5 else 0 )\n",
    "    print(result_dataset[\"Survived\"].value_counts().plot.bar())\n",
    "    result_dataset.drop(\"Predict\",axis=1).to_csv(\"titanic_deep_learning_result_model{}.csv\".format(count),index=False)\n",
    "    return result_dataset "
   ]
  },
  {
   "cell_type": "markdown",
   "metadata": {},
   "source": [
    "## 1.Model"
   ]
  },
  {
   "cell_type": "code",
   "execution_count": 30,
   "metadata": {},
   "outputs": [],
   "source": [
    "model=Sequential()\n",
    "model.add(Dense(14,activation='relu'))\n",
    "model.add(Dense(10,activation='relu'))\n",
    "model.add(Dense(6,activation='relu'))\n",
    "model.add(Dense(1,activation='sigmoid'))"
   ]
  },
  {
   "cell_type": "code",
   "execution_count": 31,
   "metadata": {},
   "outputs": [],
   "source": [
    "model.compile(loss='binary_crossentropy',optimizer=\"adam\",metrics=[\"accuracy\"])"
   ]
  },
  {
   "cell_type": "code",
   "execution_count": 32,
   "metadata": {},
   "outputs": [
    {
     "name": "stdout",
     "output_type": "stream",
     "text": [
      "Epoch 1/150\n",
      "90/90 [==============================] - 1s 766us/step - loss: 29.4940 - accuracy: 0.6119\n",
      "Epoch 2/150\n",
      "90/90 [==============================] - 0s 735us/step - loss: 1.0335 - accuracy: 0.5056\n",
      "Epoch 3/150\n",
      "90/90 [==============================] - 0s 742us/step - loss: 0.7335 - accuracy: 0.6354\n",
      "Epoch 4/150\n",
      "90/90 [==============================] - 0s 635us/step - loss: 0.6137 - accuracy: 0.6748\n",
      "Epoch 5/150\n",
      "90/90 [==============================] - 0s 721us/step - loss: 0.6180 - accuracy: 0.6678\n",
      "Epoch 6/150\n",
      "90/90 [==============================] - 0s 742us/step - loss: 0.6128 - accuracy: 0.6526\n",
      "Epoch 7/150\n",
      "90/90 [==============================] - 0s 658us/step - loss: 0.6026 - accuracy: 0.6633\n",
      "Epoch 8/150\n",
      "90/90 [==============================] - 0s 705us/step - loss: 0.6126 - accuracy: 0.6725\n",
      "Epoch 9/150\n",
      "90/90 [==============================] - 0s 659us/step - loss: 0.7015 - accuracy: 0.6442\n",
      "Epoch 10/150\n",
      "90/90 [==============================] - 0s 614us/step - loss: 0.6760 - accuracy: 0.6868\n",
      "Epoch 11/150\n",
      "90/90 [==============================] - 0s 874us/step - loss: 0.5834 - accuracy: 0.6993\n",
      "Epoch 12/150\n",
      "90/90 [==============================] - 0s 829us/step - loss: 0.6169 - accuracy: 0.6839\n",
      "Epoch 13/150\n",
      "90/90 [==============================] - 0s 627us/step - loss: 0.6275 - accuracy: 0.6896\n",
      "Epoch 14/150\n",
      "90/90 [==============================] - 0s 742us/step - loss: 0.5718 - accuracy: 0.6880\n",
      "Epoch 15/150\n",
      "90/90 [==============================] - 0s 730us/step - loss: 0.5836 - accuracy: 0.6917\n",
      "Epoch 16/150\n",
      "90/90 [==============================] - 0s 630us/step - loss: 0.7360 - accuracy: 0.6581\n",
      "Epoch 17/150\n",
      "90/90 [==============================] - 0s 736us/step - loss: 0.5467 - accuracy: 0.7242\n",
      "Epoch 18/150\n",
      "90/90 [==============================] - 0s 664us/step - loss: 0.5233 - accuracy: 0.7360\n",
      "Epoch 19/150\n",
      "90/90 [==============================] - 0s 707us/step - loss: 0.6018 - accuracy: 0.6841\n",
      "Epoch 20/150\n",
      "90/90 [==============================] - 0s 618us/step - loss: 0.5482 - accuracy: 0.7354\n",
      "Epoch 21/150\n",
      "90/90 [==============================] - 0s 768us/step - loss: 0.5224 - accuracy: 0.7627\n",
      "Epoch 22/150\n",
      "90/90 [==============================] - 0s 616us/step - loss: 0.5619 - accuracy: 0.7279\n",
      "Epoch 23/150\n",
      "90/90 [==============================] - 0s 714us/step - loss: 0.5389 - accuracy: 0.7368\n",
      "Epoch 24/150\n",
      "90/90 [==============================] - 0s 680us/step - loss: 0.5077 - accuracy: 0.7734\n",
      "Epoch 25/150\n",
      "90/90 [==============================] - 0s 796us/step - loss: 0.5831 - accuracy: 0.7009\n",
      "Epoch 26/150\n",
      "90/90 [==============================] - 0s 784us/step - loss: 0.5532 - accuracy: 0.7481\n",
      "Epoch 27/150\n",
      "90/90 [==============================] - 0s 635us/step - loss: 0.5102 - accuracy: 0.7577\n",
      "Epoch 28/150\n",
      "90/90 [==============================] - 0s 785us/step - loss: 0.6067 - accuracy: 0.7019\n",
      "Epoch 29/150\n",
      "90/90 [==============================] - 0s 755us/step - loss: 0.5616 - accuracy: 0.7159\n",
      "Epoch 30/150\n",
      "90/90 [==============================] - 0s 634us/step - loss: 0.6875 - accuracy: 0.7038\n",
      "Epoch 31/150\n",
      "90/90 [==============================] - 0s 673us/step - loss: 0.5031 - accuracy: 0.7750\n",
      "Epoch 32/150\n",
      "90/90 [==============================] - 0s 660us/step - loss: 0.5552 - accuracy: 0.7467\n",
      "Epoch 33/150\n",
      "90/90 [==============================] - 0s 667us/step - loss: 0.4820 - accuracy: 0.7786\n",
      "Epoch 34/150\n",
      "90/90 [==============================] - 0s 641us/step - loss: 0.5213 - accuracy: 0.7678\n",
      "Epoch 35/150\n",
      "90/90 [==============================] - 0s 755us/step - loss: 0.4935 - accuracy: 0.7862\n",
      "Epoch 36/150\n",
      "90/90 [==============================] - 0s 722us/step - loss: 0.5614 - accuracy: 0.7540\n",
      "Epoch 37/150\n",
      "90/90 [==============================] - 0s 737us/step - loss: 0.5568 - accuracy: 0.7726\n",
      "Epoch 38/150\n",
      "90/90 [==============================] - 0s 660us/step - loss: 0.5381 - accuracy: 0.7373\n",
      "Epoch 39/150\n",
      "90/90 [==============================] - 0s 723us/step - loss: 0.5021 - accuracy: 0.7748\n",
      "Epoch 40/150\n",
      "90/90 [==============================] - 0s 727us/step - loss: 0.5823 - accuracy: 0.7335\n",
      "Epoch 41/150\n",
      "90/90 [==============================] - 0s 649us/step - loss: 0.4726 - accuracy: 0.7951\n",
      "Epoch 42/150\n",
      "90/90 [==============================] - 0s 681us/step - loss: 0.4995 - accuracy: 0.7666\n",
      "Epoch 43/150\n",
      "90/90 [==============================] - 0s 643us/step - loss: 0.5459 - accuracy: 0.7788\n",
      "Epoch 44/150\n",
      "90/90 [==============================] - 0s 639us/step - loss: 0.5250 - accuracy: 0.7447\n",
      "Epoch 45/150\n",
      "90/90 [==============================] - 0s 713us/step - loss: 0.5241 - accuracy: 0.7593\n",
      "Epoch 46/150\n",
      "90/90 [==============================] - 0s 693us/step - loss: 0.5954 - accuracy: 0.7363\n",
      "Epoch 47/150\n",
      "90/90 [==============================] - 0s 651us/step - loss: 0.4822 - accuracy: 0.7913\n",
      "Epoch 48/150\n",
      "90/90 [==============================] - 0s 707us/step - loss: 0.5651 - accuracy: 0.7227\n",
      "Epoch 49/150\n",
      "90/90 [==============================] - 0s 660us/step - loss: 0.5337 - accuracy: 0.7587\n",
      "Epoch 50/150\n",
      "90/90 [==============================] - 0s 663us/step - loss: 0.4571 - accuracy: 0.8073\n",
      "Epoch 51/150\n",
      "90/90 [==============================] - 0s 668us/step - loss: 0.5336 - accuracy: 0.7678\n",
      "Epoch 52/150\n",
      "90/90 [==============================] - 0s 650us/step - loss: 0.5730 - accuracy: 0.7398\n",
      "Epoch 53/150\n",
      "90/90 [==============================] - 0s 721us/step - loss: 0.6131 - accuracy: 0.7267\n",
      "Epoch 54/150\n",
      "90/90 [==============================] - 0s 660us/step - loss: 0.4813 - accuracy: 0.7715\n",
      "Epoch 55/150\n",
      "90/90 [==============================] - 0s 670us/step - loss: 0.5320 - accuracy: 0.7628\n",
      "Epoch 56/150\n",
      "90/90 [==============================] - 0s 684us/step - loss: 0.4775 - accuracy: 0.7921\n",
      "Epoch 57/150\n",
      "90/90 [==============================] - 0s 594us/step - loss: 0.4844 - accuracy: 0.7913\n",
      "Epoch 58/150\n",
      "90/90 [==============================] - 0s 552us/step - loss: 0.4534 - accuracy: 0.8121\n",
      "Epoch 59/150\n",
      "90/90 [==============================] - 0s 622us/step - loss: 0.4600 - accuracy: 0.7988\n",
      "Epoch 60/150\n",
      "90/90 [==============================] - 0s 733us/step - loss: 0.6478 - accuracy: 0.7656\n",
      "Epoch 61/150\n",
      "90/90 [==============================] - 0s 575us/step - loss: 0.4357 - accuracy: 0.8366\n",
      "Epoch 62/150\n",
      "90/90 [==============================] - 0s 595us/step - loss: 0.4998 - accuracy: 0.7724\n",
      "Epoch 63/150\n",
      "90/90 [==============================] - 0s 530us/step - loss: 0.4731 - accuracy: 0.8053\n",
      "Epoch 64/150\n",
      "90/90 [==============================] - 0s 528us/step - loss: 0.4839 - accuracy: 0.7845\n",
      "Epoch 65/150\n",
      "90/90 [==============================] - 0s 550us/step - loss: 0.5162 - accuracy: 0.7744\n",
      "Epoch 66/150\n",
      "90/90 [==============================] - 0s 539us/step - loss: 0.4849 - accuracy: 0.7984\n",
      "Epoch 67/150\n",
      "90/90 [==============================] - 0s 556us/step - loss: 0.4390 - accuracy: 0.8133\n",
      "Epoch 68/150\n",
      "90/90 [==============================] - 0s 544us/step - loss: 0.4556 - accuracy: 0.8108\n",
      "Epoch 69/150\n",
      "90/90 [==============================] - 0s 542us/step - loss: 0.4604 - accuracy: 0.8000\n",
      "Epoch 70/150\n",
      "90/90 [==============================] - 0s 626us/step - loss: 0.4967 - accuracy: 0.8081\n",
      "Epoch 71/150\n",
      "90/90 [==============================] - 0s 605us/step - loss: 0.4864 - accuracy: 0.7828\n",
      "Epoch 72/150\n",
      "90/90 [==============================] - 0s 555us/step - loss: 0.4983 - accuracy: 0.7962\n",
      "Epoch 73/150\n",
      "90/90 [==============================] - 0s 557us/step - loss: 0.4690 - accuracy: 0.7983\n",
      "Epoch 74/150\n",
      "90/90 [==============================] - 0s 619us/step - loss: 0.4857 - accuracy: 0.8087\n",
      "Epoch 75/150\n",
      "90/90 [==============================] - 0s 536us/step - loss: 0.4576 - accuracy: 0.8071\n",
      "Epoch 76/150\n",
      "90/90 [==============================] - 0s 536us/step - loss: 0.4977 - accuracy: 0.7857\n",
      "Epoch 77/150\n",
      "90/90 [==============================] - 0s 546us/step - loss: 0.4655 - accuracy: 0.8116\n",
      "Epoch 78/150\n",
      "90/90 [==============================] - 0s 660us/step - loss: 0.4545 - accuracy: 0.7970\n",
      "Epoch 79/150\n",
      "90/90 [==============================] - 0s 560us/step - loss: 0.4440 - accuracy: 0.7979\n",
      "Epoch 80/150\n",
      "90/90 [==============================] - 0s 534us/step - loss: 0.4583 - accuracy: 0.8021\n",
      "Epoch 81/150\n"
     ]
    },
    {
     "name": "stdout",
     "output_type": "stream",
     "text": [
      "90/90 [==============================] - 0s 565us/step - loss: 0.4581 - accuracy: 0.7878\n",
      "Epoch 82/150\n",
      "90/90 [==============================] - 0s 606us/step - loss: 0.4544 - accuracy: 0.7950\n",
      "Epoch 83/150\n",
      "90/90 [==============================] - 0s 561us/step - loss: 0.4591 - accuracy: 0.8006\n",
      "Epoch 84/150\n",
      "90/90 [==============================] - 0s 608us/step - loss: 0.4732 - accuracy: 0.7820\n",
      "Epoch 85/150\n",
      "90/90 [==============================] - 0s 676us/step - loss: 0.4143 - accuracy: 0.8237\n",
      "Epoch 86/150\n",
      "90/90 [==============================] - 0s 591us/step - loss: 0.6896 - accuracy: 0.7314\n",
      "Epoch 87/150\n",
      "90/90 [==============================] - 0s 526us/step - loss: 0.4887 - accuracy: 0.7880\n",
      "Epoch 88/150\n",
      "90/90 [==============================] - 0s 527us/step - loss: 0.4366 - accuracy: 0.8128\n",
      "Epoch 89/150\n",
      "90/90 [==============================] - 0s 530us/step - loss: 0.4491 - accuracy: 0.7980\n",
      "Epoch 90/150\n",
      "90/90 [==============================] - 0s 529us/step - loss: 0.5210 - accuracy: 0.7685\n",
      "Epoch 91/150\n",
      "90/90 [==============================] - 0s 527us/step - loss: 0.4286 - accuracy: 0.8207\n",
      "Epoch 92/150\n",
      "90/90 [==============================] - 0s 551us/step - loss: 0.6482 - accuracy: 0.7196\n",
      "Epoch 93/150\n",
      "90/90 [==============================] - 0s 566us/step - loss: 0.4775 - accuracy: 0.7773\n",
      "Epoch 94/150\n",
      "90/90 [==============================] - 0s 600us/step - loss: 0.4525 - accuracy: 0.8010\n",
      "Epoch 95/150\n",
      "90/90 [==============================] - 0s 528us/step - loss: 0.4811 - accuracy: 0.7745\n",
      "Epoch 96/150\n",
      "90/90 [==============================] - 0s 623us/step - loss: 0.4571 - accuracy: 0.8024\n",
      "Epoch 97/150\n",
      "90/90 [==============================] - 0s 581us/step - loss: 0.4617 - accuracy: 0.7831\n",
      "Epoch 98/150\n",
      "90/90 [==============================] - 0s 559us/step - loss: 0.4511 - accuracy: 0.7863\n",
      "Epoch 99/150\n",
      "90/90 [==============================] - 0s 527us/step - loss: 0.4012 - accuracy: 0.8183\n",
      "Epoch 100/150\n",
      "90/90 [==============================] - 0s 554us/step - loss: 0.4275 - accuracy: 0.8025\n",
      "Epoch 101/150\n",
      "90/90 [==============================] - 0s 596us/step - loss: 0.4315 - accuracy: 0.8061\n",
      "Epoch 102/150\n",
      "90/90 [==============================] - 0s 559us/step - loss: 0.5254 - accuracy: 0.7867\n",
      "Epoch 103/150\n",
      "90/90 [==============================] - 0s 544us/step - loss: 0.4565 - accuracy: 0.7972\n",
      "Epoch 104/150\n",
      "90/90 [==============================] - 0s 540us/step - loss: 0.5089 - accuracy: 0.7633\n",
      "Epoch 105/150\n",
      "90/90 [==============================] - 0s 577us/step - loss: 0.4454 - accuracy: 0.8019\n",
      "Epoch 106/150\n",
      "90/90 [==============================] - 0s 625us/step - loss: 0.4561 - accuracy: 0.7962\n",
      "Epoch 107/150\n",
      "90/90 [==============================] - 0s 579us/step - loss: 0.4734 - accuracy: 0.7877\n",
      "Epoch 108/150\n",
      "90/90 [==============================] - 0s 554us/step - loss: 0.4466 - accuracy: 0.8036\n",
      "Epoch 109/150\n",
      "90/90 [==============================] - 0s 559us/step - loss: 0.4846 - accuracy: 0.7900\n",
      "Epoch 110/150\n",
      "90/90 [==============================] - 0s 540us/step - loss: 0.4508 - accuracy: 0.8111\n",
      "Epoch 111/150\n",
      "90/90 [==============================] - 0s 582us/step - loss: 0.4441 - accuracy: 0.7924\n",
      "Epoch 112/150\n",
      "90/90 [==============================] - 0s 662us/step - loss: 0.4077 - accuracy: 0.8117\n",
      "Epoch 113/150\n",
      "90/90 [==============================] - 0s 548us/step - loss: 0.4708 - accuracy: 0.7823\n",
      "Epoch 114/150\n",
      "90/90 [==============================] - 0s 534us/step - loss: 0.4309 - accuracy: 0.8075\n",
      "Epoch 115/150\n",
      "90/90 [==============================] - 0s 531us/step - loss: 0.4648 - accuracy: 0.7850\n",
      "Epoch 116/150\n",
      "90/90 [==============================] - 0s 556us/step - loss: 0.4334 - accuracy: 0.8035\n",
      "Epoch 117/150\n",
      "90/90 [==============================] - 0s 538us/step - loss: 0.4486 - accuracy: 0.8123\n",
      "Epoch 118/150\n",
      "90/90 [==============================] - 0s 640us/step - loss: 0.5756 - accuracy: 0.7536\n",
      "Epoch 119/150\n",
      "90/90 [==============================] - 0s 559us/step - loss: 0.4610 - accuracy: 0.7854\n",
      "Epoch 120/150\n",
      "90/90 [==============================] - 0s 549us/step - loss: 0.4367 - accuracy: 0.7879\n",
      "Epoch 121/150\n",
      "90/90 [==============================] - 0s 578us/step - loss: 0.4293 - accuracy: 0.7973\n",
      "Epoch 122/150\n",
      "90/90 [==============================] - 0s 554us/step - loss: 0.4669 - accuracy: 0.7823\n",
      "Epoch 123/150\n",
      "90/90 [==============================] - 0s 538us/step - loss: 0.4236 - accuracy: 0.8200\n",
      "Epoch 124/150\n",
      "90/90 [==============================] - 0s 544us/step - loss: 0.4323 - accuracy: 0.7912\n",
      "Epoch 125/150\n",
      "90/90 [==============================] - 0s 559us/step - loss: 0.4332 - accuracy: 0.8136\n",
      "Epoch 126/150\n",
      "90/90 [==============================] - 0s 590us/step - loss: 0.4254 - accuracy: 0.7967\n",
      "Epoch 127/150\n",
      "90/90 [==============================] - 0s 561us/step - loss: 0.4701 - accuracy: 0.7830\n",
      "Epoch 128/150\n",
      "90/90 [==============================] - 0s 549us/step - loss: 0.4442 - accuracy: 0.7985\n",
      "Epoch 129/150\n",
      "90/90 [==============================] - 0s 548us/step - loss: 0.3980 - accuracy: 0.8325\n",
      "Epoch 130/150\n",
      "90/90 [==============================] - 0s 545us/step - loss: 0.4591 - accuracy: 0.8035\n",
      "Epoch 131/150\n",
      "90/90 [==============================] - 0s 538us/step - loss: 0.4452 - accuracy: 0.8107\n",
      "Epoch 132/150\n",
      "90/90 [==============================] - 0s 552us/step - loss: 0.4336 - accuracy: 0.8163\n",
      "Epoch 133/150\n",
      "90/90 [==============================] - 0s 545us/step - loss: 0.4889 - accuracy: 0.7856\n",
      "Epoch 134/150\n",
      "90/90 [==============================] - 0s 597us/step - loss: 0.4058 - accuracy: 0.8233\n",
      "Epoch 135/150\n",
      "90/90 [==============================] - 0s 533us/step - loss: 0.4065 - accuracy: 0.8114\n",
      "Epoch 136/150\n",
      "90/90 [==============================] - 0s 528us/step - loss: 0.4323 - accuracy: 0.7979\n",
      "Epoch 137/150\n",
      "90/90 [==============================] - 0s 637us/step - loss: 0.4096 - accuracy: 0.8157\n",
      "Epoch 138/150\n",
      "90/90 [==============================] - 0s 632us/step - loss: 0.4632 - accuracy: 0.7981\n",
      "Epoch 139/150\n",
      "90/90 [==============================] - 0s 703us/step - loss: 0.4170 - accuracy: 0.8170\n",
      "Epoch 140/150\n",
      "90/90 [==============================] - 0s 595us/step - loss: 0.4519 - accuracy: 0.8031\n",
      "Epoch 141/150\n",
      "90/90 [==============================] - 0s 581us/step - loss: 0.4358 - accuracy: 0.8158\n",
      "Epoch 142/150\n",
      "90/90 [==============================] - 0s 548us/step - loss: 0.4124 - accuracy: 0.8172\n",
      "Epoch 143/150\n",
      "90/90 [==============================] - 0s 596us/step - loss: 0.4230 - accuracy: 0.8190\n",
      "Epoch 144/150\n",
      "90/90 [==============================] - 0s 580us/step - loss: 0.4426 - accuracy: 0.8122\n",
      "Epoch 145/150\n",
      "90/90 [==============================] - 0s 528us/step - loss: 0.4548 - accuracy: 0.7866\n",
      "Epoch 146/150\n",
      "90/90 [==============================] - 0s 553us/step - loss: 0.4147 - accuracy: 0.8280\n",
      "Epoch 147/150\n",
      "90/90 [==============================] - 0s 558us/step - loss: 0.4128 - accuracy: 0.8155\n",
      "Epoch 148/150\n",
      "90/90 [==============================] - 0s 549us/step - loss: 0.4560 - accuracy: 0.7943\n",
      "Epoch 149/150\n",
      "90/90 [==============================] - 0s 542us/step - loss: 0.4421 - accuracy: 0.8075\n",
      "Epoch 150/150\n",
      "90/90 [==============================] - 0s 583us/step - loss: 0.4178 - accuracy: 0.8068\n"
     ]
    },
    {
     "data": {
      "text/plain": [
       "<tensorflow.python.keras.callbacks.History at 0x1ebe8c45490>"
      ]
     },
     "execution_count": 32,
     "metadata": {},
     "output_type": "execute_result"
    }
   ],
   "source": [
    "model.fit(x,y,epochs=150,batch_size=10,verbose=1)"
   ]
  },
  {
   "cell_type": "code",
   "execution_count": 33,
   "metadata": {},
   "outputs": [
    {
     "name": "stdout",
     "output_type": "stream",
     "text": [
      "Model: \"sequential\"\n",
      "_________________________________________________________________\n",
      "Layer (type)                 Output Shape              Param #   \n",
      "=================================================================\n",
      "dense (Dense)                (None, 14)                210       \n",
      "_________________________________________________________________\n",
      "dense_1 (Dense)              (None, 10)                150       \n",
      "_________________________________________________________________\n",
      "dense_2 (Dense)              (None, 6)                 66        \n",
      "_________________________________________________________________\n",
      "dense_3 (Dense)              (None, 1)                 7         \n",
      "=================================================================\n",
      "Total params: 433\n",
      "Trainable params: 433\n",
      "Non-trainable params: 0\n",
      "_________________________________________________________________\n"
     ]
    }
   ],
   "source": [
    "model.summary()"
   ]
  },
  {
   "cell_type": "code",
   "execution_count": 34,
   "metadata": {},
   "outputs": [
    {
     "name": "stdout",
     "output_type": "stream",
     "text": [
      "28/28 [==============================] - 0s 665us/step - loss: 0.4225 - accuracy: 0.8114\n"
     ]
    }
   ],
   "source": [
    "scores=model.evaluate(x,y)"
   ]
  },
  {
   "cell_type": "code",
   "execution_count": 35,
   "metadata": {
    "scrolled": true
   },
   "outputs": [
    {
     "name": "stdout",
     "output_type": "stream",
     "text": [
      "accuracy: 81.14%\n"
     ]
    }
   ],
   "source": [
    "print(\"%s: %.2f%%\" % (model.metrics_names[1],scores[1]*100))"
   ]
  },
  {
   "cell_type": "code",
   "execution_count": 36,
   "metadata": {},
   "outputs": [
    {
     "name": "stdout",
     "output_type": "stream",
     "text": [
      "AxesSubplot(0.125,0.125;0.775x0.755)\n"
     ]
    },
    {
     "data": {
      "text/html": [
       "<div>\n",
       "<style scoped>\n",
       "    .dataframe tbody tr th:only-of-type {\n",
       "        vertical-align: middle;\n",
       "    }\n",
       "\n",
       "    .dataframe tbody tr th {\n",
       "        vertical-align: top;\n",
       "    }\n",
       "\n",
       "    .dataframe thead th {\n",
       "        text-align: right;\n",
       "    }\n",
       "</style>\n",
       "<table border=\"1\" class=\"dataframe\">\n",
       "  <thead>\n",
       "    <tr style=\"text-align: right;\">\n",
       "      <th></th>\n",
       "      <th>PassengerId</th>\n",
       "      <th>Predict</th>\n",
       "      <th>Survived</th>\n",
       "    </tr>\n",
       "  </thead>\n",
       "  <tbody>\n",
       "    <tr>\n",
       "      <th>891</th>\n",
       "      <td>892</td>\n",
       "      <td>0.040127</td>\n",
       "      <td>0</td>\n",
       "    </tr>\n",
       "    <tr>\n",
       "      <th>892</th>\n",
       "      <td>893</td>\n",
       "      <td>0.283586</td>\n",
       "      <td>0</td>\n",
       "    </tr>\n",
       "    <tr>\n",
       "      <th>893</th>\n",
       "      <td>894</td>\n",
       "      <td>0.039779</td>\n",
       "      <td>0</td>\n",
       "    </tr>\n",
       "    <tr>\n",
       "      <th>894</th>\n",
       "      <td>895</td>\n",
       "      <td>0.035323</td>\n",
       "      <td>0</td>\n",
       "    </tr>\n",
       "    <tr>\n",
       "      <th>895</th>\n",
       "      <td>896</td>\n",
       "      <td>0.389607</td>\n",
       "      <td>0</td>\n",
       "    </tr>\n",
       "    <tr>\n",
       "      <th>...</th>\n",
       "      <td>...</td>\n",
       "      <td>...</td>\n",
       "      <td>...</td>\n",
       "    </tr>\n",
       "    <tr>\n",
       "      <th>1304</th>\n",
       "      <td>1305</td>\n",
       "      <td>0.018173</td>\n",
       "      <td>0</td>\n",
       "    </tr>\n",
       "    <tr>\n",
       "      <th>1305</th>\n",
       "      <td>1306</td>\n",
       "      <td>0.994109</td>\n",
       "      <td>1</td>\n",
       "    </tr>\n",
       "    <tr>\n",
       "      <th>1306</th>\n",
       "      <td>1307</td>\n",
       "      <td>0.014552</td>\n",
       "      <td>0</td>\n",
       "    </tr>\n",
       "    <tr>\n",
       "      <th>1307</th>\n",
       "      <td>1308</td>\n",
       "      <td>0.018097</td>\n",
       "      <td>0</td>\n",
       "    </tr>\n",
       "    <tr>\n",
       "      <th>1308</th>\n",
       "      <td>1309</td>\n",
       "      <td>0.123446</td>\n",
       "      <td>0</td>\n",
       "    </tr>\n",
       "  </tbody>\n",
       "</table>\n",
       "<p>418 rows × 3 columns</p>\n",
       "</div>"
      ],
      "text/plain": [
       "      PassengerId   Predict  Survived\n",
       "891           892  0.040127         0\n",
       "892           893  0.283586         0\n",
       "893           894  0.039779         0\n",
       "894           895  0.035323         0\n",
       "895           896  0.389607         0\n",
       "...           ...       ...       ...\n",
       "1304         1305  0.018173         0\n",
       "1305         1306  0.994109         1\n",
       "1306         1307  0.014552         0\n",
       "1307         1308  0.018097         0\n",
       "1308         1309  0.123446         0\n",
       "\n",
       "[418 rows x 3 columns]"
      ]
     },
     "execution_count": 36,
     "metadata": {},
     "output_type": "execute_result"
    },
    {
     "data": {
      "image/png": "[encoded data removed]",
      "text/plain": [
       "<Figure size 432x288 with 1 Axes>"
      ]
     },
     "metadata": {
      "needs_background": "light"
     },
     "output_type": "display_data"
    }
   ],
   "source": [
    "## Birinci model için (model.fit(x,y,epochs=150,batch_size=10,verbose=1))\n",
    "result_func(model,1)"
   ]
  },
  {
   "attachments": {
    "image-2.png": {
     "image/png": "[encoded data removed]"
    }
   },
   "cell_type": "markdown",
   "metadata": {},
   "source": [
    "![image-2.png](attachment:image-2.png)"
   ]
  },
  {
   "cell_type": "code",
   "execution_count": 37,
   "metadata": {
    "scrolled": true
   },
   "outputs": [
    {
     "name": "stdout",
     "output_type": "stream",
     "text": [
      "Epoch 1/150\n",
      "90/90 [==============================] - 0s 796us/step - loss: 0.4290 - accuracy: 0.8013\n",
      "Epoch 2/150\n",
      "90/90 [==============================] - 0s 638us/step - loss: 0.4261 - accuracy: 0.8114\n",
      "Epoch 3/150\n",
      "90/90 [==============================] - 0s 640us/step - loss: 0.4283 - accuracy: 0.8025\n",
      "Epoch 4/150\n",
      "90/90 [==============================] - 0s 661us/step - loss: 0.4295 - accuracy: 0.8137\n",
      "Epoch 5/150\n",
      "90/90 [==============================] - 0s 731us/step - loss: 0.4230 - accuracy: 0.8058\n",
      "Epoch 6/150\n",
      "90/90 [==============================] - 0s 669us/step - loss: 0.4408 - accuracy: 0.7957\n",
      "Epoch 7/150\n",
      "90/90 [==============================] - 0s 649us/step - loss: 0.4231 - accuracy: 0.8047\n",
      "Epoch 8/150\n",
      "90/90 [==============================] - 0s 686us/step - loss: 0.4202 - accuracy: 0.8193\n",
      "Epoch 9/150\n",
      "90/90 [==============================] - 0s 697us/step - loss: 0.4178 - accuracy: 0.8114\n",
      "Epoch 10/150\n",
      "90/90 [==============================] - 0s 702us/step - loss: 0.4374 - accuracy: 0.8047\n",
      "Epoch 11/150\n",
      "90/90 [==============================] - 0s 701us/step - loss: 0.4284 - accuracy: 0.8137\n",
      "Epoch 12/150\n",
      "90/90 [==============================] - 0s 634us/step - loss: 0.4384 - accuracy: 0.8025\n",
      "Epoch 13/150\n",
      "90/90 [==============================] - 0s 558us/step - loss: 0.4334 - accuracy: 0.8058\n",
      "Epoch 14/150\n",
      "90/90 [==============================] - 0s 673us/step - loss: 0.4225 - accuracy: 0.8103\n",
      "Epoch 15/150\n",
      "90/90 [==============================] - 0s 706us/step - loss: 0.4443 - accuracy: 0.8058\n",
      "Epoch 16/150\n",
      "90/90 [==============================] - 0s 804us/step - loss: 0.4418 - accuracy: 0.8137\n",
      "Epoch 17/150\n",
      "90/90 [==============================] - 0s 734us/step - loss: 0.4195 - accuracy: 0.8036\n",
      "Epoch 18/150\n",
      "90/90 [==============================] - 0s 573us/step - loss: 0.4631 - accuracy: 0.8002\n",
      "Epoch 19/150\n",
      "90/90 [==============================] - 0s 908us/step - loss: 0.4220 - accuracy: 0.8126\n",
      "Epoch 20/150\n",
      "90/90 [==============================] - 0s 854us/step - loss: 0.4261 - accuracy: 0.8092\n",
      "Epoch 21/150\n",
      "90/90 [==============================] - 0s 733us/step - loss: 0.4167 - accuracy: 0.8114\n",
      "Epoch 22/150\n",
      "90/90 [==============================] - 0s 849us/step - loss: 0.4312 - accuracy: 0.8103\n",
      "Epoch 23/150\n",
      "90/90 [==============================] - 0s 823us/step - loss: 0.4574 - accuracy: 0.8025\n",
      "Epoch 24/150\n",
      "90/90 [==============================] - 0s 827us/step - loss: 0.4175 - accuracy: 0.8081\n",
      "Epoch 25/150\n",
      "90/90 [==============================] - 0s 797us/step - loss: 0.4321 - accuracy: 0.8227\n",
      "Epoch 26/150\n",
      "90/90 [==============================] - 0s 824us/step - loss: 0.4270 - accuracy: 0.8126\n",
      "Epoch 27/150\n",
      "90/90 [==============================] - 0s 604us/step - loss: 0.4445 - accuracy: 0.8013\n",
      "Epoch 28/150\n",
      "90/90 [==============================] - 0s 665us/step - loss: 0.4275 - accuracy: 0.8081\n",
      "Epoch 29/150\n",
      "90/90 [==============================] - 0s 609us/step - loss: 0.4405 - accuracy: 0.8148\n",
      "Epoch 30/150\n",
      "90/90 [==============================] - 0s 548us/step - loss: 0.4195 - accuracy: 0.8070\n",
      "Epoch 31/150\n",
      "90/90 [==============================] - 0s 612us/step - loss: 0.4678 - accuracy: 0.7912\n",
      "Epoch 32/150\n",
      "90/90 [==============================] - 0s 603us/step - loss: 0.4245 - accuracy: 0.8159\n",
      "Epoch 33/150\n",
      "90/90 [==============================] - 0s 542us/step - loss: 0.4229 - accuracy: 0.8081\n",
      "Epoch 34/150\n",
      "90/90 [==============================] - 0s 546us/step - loss: 0.4199 - accuracy: 0.8114\n",
      "Epoch 35/150\n",
      "90/90 [==============================] - 0s 617us/step - loss: 0.4405 - accuracy: 0.8137\n",
      "Epoch 36/150\n",
      "90/90 [==============================] - 0s 650us/step - loss: 0.4309 - accuracy: 0.8126\n",
      "Epoch 37/150\n",
      "90/90 [==============================] - 0s 670us/step - loss: 0.4340 - accuracy: 0.8036\n",
      "Epoch 38/150\n",
      "90/90 [==============================] - 0s 594us/step - loss: 0.4320 - accuracy: 0.8070\n",
      "Epoch 39/150\n",
      "90/90 [==============================] - 0s 583us/step - loss: 0.4133 - accuracy: 0.8148\n",
      "Epoch 40/150\n",
      "90/90 [==============================] - 0s 672us/step - loss: 0.4231 - accuracy: 0.8137\n",
      "Epoch 41/150\n",
      "90/90 [==============================] - 0s 745us/step - loss: 0.4379 - accuracy: 0.8126\n",
      "Epoch 42/150\n",
      "90/90 [==============================] - 0s 608us/step - loss: 0.4327 - accuracy: 0.8070\n",
      "Epoch 43/150\n",
      "90/90 [==============================] - 0s 625us/step - loss: 0.4193 - accuracy: 0.8025\n",
      "Epoch 44/150\n",
      "90/90 [==============================] - 0s 583us/step - loss: 0.4331 - accuracy: 0.8182\n",
      "Epoch 45/150\n",
      "90/90 [==============================] - 0s 666us/step - loss: 0.4429 - accuracy: 0.8025\n",
      "Epoch 46/150\n",
      "90/90 [==============================] - 0s 688us/step - loss: 0.4264 - accuracy: 0.8092\n",
      "Epoch 47/150\n",
      "90/90 [==============================] - 0s 605us/step - loss: 0.4147 - accuracy: 0.8137\n",
      "Epoch 48/150\n",
      "90/90 [==============================] - 0s 557us/step - loss: 0.4252 - accuracy: 0.8114\n",
      "Epoch 49/150\n",
      "90/90 [==============================] - 0s 546us/step - loss: 0.4201 - accuracy: 0.8126\n",
      "Epoch 50/150\n",
      "90/90 [==============================] - 0s 550us/step - loss: 0.4251 - accuracy: 0.8103\n",
      "Epoch 51/150\n",
      "90/90 [==============================] - 0s 585us/step - loss: 0.4271 - accuracy: 0.8036\n",
      "Epoch 52/150\n",
      "90/90 [==============================] - 0s 532us/step - loss: 0.4216 - accuracy: 0.8171\n",
      "Epoch 53/150\n",
      "90/90 [==============================] - 0s 580us/step - loss: 0.4171 - accuracy: 0.8103\n",
      "Epoch 54/150\n",
      "90/90 [==============================] - 0s 560us/step - loss: 0.4290 - accuracy: 0.8193\n",
      "Epoch 55/150\n",
      "90/90 [==============================] - 0s 546us/step - loss: 0.4228 - accuracy: 0.8070\n",
      "Epoch 56/150\n",
      "90/90 [==============================] - 0s 611us/step - loss: 0.4268 - accuracy: 0.8114\n",
      "Epoch 57/150\n",
      "90/90 [==============================] - 0s 666us/step - loss: 0.4193 - accuracy: 0.8070\n",
      "Epoch 58/150\n",
      "90/90 [==============================] - 0s 552us/step - loss: 0.4216 - accuracy: 0.8058\n",
      "Epoch 59/150\n",
      "90/90 [==============================] - 0s 557us/step - loss: 0.4203 - accuracy: 0.8193\n",
      "Epoch 60/150\n",
      "90/90 [==============================] - 0s 563us/step - loss: 0.4162 - accuracy: 0.8114\n",
      "Epoch 61/150\n",
      "90/90 [==============================] - 0s 550us/step - loss: 0.4254 - accuracy: 0.8114\n",
      "Epoch 62/150\n",
      "90/90 [==============================] - 0s 556us/step - loss: 0.4170 - accuracy: 0.8103\n",
      "Epoch 63/150\n",
      "90/90 [==============================] - 0s 588us/step - loss: 0.4227 - accuracy: 0.8126\n",
      "Epoch 64/150\n",
      "90/90 [==============================] - 0s 599us/step - loss: 0.4194 - accuracy: 0.8171\n",
      "Epoch 65/150\n",
      "90/90 [==============================] - 0s 581us/step - loss: 0.4279 - accuracy: 0.8070\n",
      "Epoch 66/150\n",
      "90/90 [==============================] - 0s 599us/step - loss: 0.4311 - accuracy: 0.8047\n",
      "Epoch 67/150\n",
      "90/90 [==============================] - 0s 616us/step - loss: 0.4151 - accuracy: 0.8126\n",
      "Epoch 68/150\n",
      "90/90 [==============================] - 0s 559us/step - loss: 0.4171 - accuracy: 0.8126\n",
      "Epoch 69/150\n",
      "90/90 [==============================] - 0s 549us/step - loss: 0.4286 - accuracy: 0.8126\n",
      "Epoch 70/150\n",
      "90/90 [==============================] - 0s 539us/step - loss: 0.4506 - accuracy: 0.8013\n",
      "Epoch 71/150\n",
      "90/90 [==============================] - 0s 667us/step - loss: 0.4233 - accuracy: 0.8182\n",
      "Epoch 72/150\n",
      "90/90 [==============================] - 0s 603us/step - loss: 0.4138 - accuracy: 0.8171\n",
      "Epoch 73/150\n",
      "90/90 [==============================] - 0s 560us/step - loss: 0.4098 - accuracy: 0.8103\n",
      "Epoch 74/150\n",
      "90/90 [==============================] - 0s 591us/step - loss: 0.4233 - accuracy: 0.8126\n",
      "Epoch 75/150\n",
      "90/90 [==============================] - 0s 550us/step - loss: 0.4211 - accuracy: 0.8126\n",
      "Epoch 76/150\n",
      "90/90 [==============================] - 0s 543us/step - loss: 0.4266 - accuracy: 0.8137\n",
      "Epoch 77/150\n",
      "90/90 [==============================] - 0s 539us/step - loss: 0.4144 - accuracy: 0.8159\n",
      "Epoch 78/150\n",
      "90/90 [==============================] - 0s 582us/step - loss: 0.4150 - accuracy: 0.8182\n",
      "Epoch 79/150\n",
      "90/90 [==============================] - 0s 536us/step - loss: 0.4231 - accuracy: 0.8114\n",
      "Epoch 80/150\n",
      "90/90 [==============================] - 0s 548us/step - loss: 0.4107 - accuracy: 0.8137\n",
      "Epoch 81/150\n"
     ]
    },
    {
     "name": "stdout",
     "output_type": "stream",
     "text": [
      "90/90 [==============================] - 0s 627us/step - loss: 0.4494 - accuracy: 0.7980\n",
      "Epoch 82/150\n",
      "90/90 [==============================] - 0s 618us/step - loss: 0.4182 - accuracy: 0.8193\n",
      "Epoch 83/150\n",
      "90/90 [==============================] - 0s 574us/step - loss: 0.4381 - accuracy: 0.8036\n",
      "Epoch 84/150\n",
      "90/90 [==============================] - 0s 582us/step - loss: 0.4176 - accuracy: 0.8159\n",
      "Epoch 85/150\n",
      "90/90 [==============================] - 0s 641us/step - loss: 0.4145 - accuracy: 0.8114\n",
      "Epoch 86/150\n",
      "90/90 [==============================] - 0s 665us/step - loss: 0.4253 - accuracy: 0.8137\n",
      "Epoch 87/150\n",
      "90/90 [==============================] - 0s 591us/step - loss: 0.4057 - accuracy: 0.8283\n",
      "Epoch 88/150\n",
      "90/90 [==============================] - 0s 547us/step - loss: 0.4185 - accuracy: 0.8148\n",
      "Epoch 89/150\n",
      "90/90 [==============================] - 0s 552us/step - loss: 0.4244 - accuracy: 0.8103\n",
      "Epoch 90/150\n",
      "90/90 [==============================] - 0s 561us/step - loss: 0.4117 - accuracy: 0.8215\n",
      "Epoch 91/150\n",
      "90/90 [==============================] - 0s 574us/step - loss: 0.4120 - accuracy: 0.8103\n",
      "Epoch 92/150\n",
      "90/90 [==============================] - 0s 590us/step - loss: 0.4119 - accuracy: 0.8137\n",
      "Epoch 93/150\n",
      "90/90 [==============================] - 0s 579us/step - loss: 0.4219 - accuracy: 0.8148\n",
      "Epoch 94/150\n",
      "90/90 [==============================] - 0s 550us/step - loss: 0.4084 - accuracy: 0.8081\n",
      "Epoch 95/150\n",
      "90/90 [==============================] - 0s 559us/step - loss: 0.4543 - accuracy: 0.8036\n",
      "Epoch 96/150\n",
      "90/90 [==============================] - 0s 579us/step - loss: 0.4499 - accuracy: 0.8137\n",
      "Epoch 97/150\n",
      "90/90 [==============================] - 0s 673us/step - loss: 0.4181 - accuracy: 0.8204\n",
      "Epoch 98/150\n",
      "90/90 [==============================] - 0s 561us/step - loss: 0.4276 - accuracy: 0.8058\n",
      "Epoch 99/150\n",
      "90/90 [==============================] - 0s 554us/step - loss: 0.4273 - accuracy: 0.8103\n",
      "Epoch 100/150\n",
      "90/90 [==============================] - 0s 584us/step - loss: 0.4109 - accuracy: 0.8238\n",
      "Epoch 101/150\n",
      "90/90 [==============================] - 0s 587us/step - loss: 0.4171 - accuracy: 0.8126\n",
      "Epoch 102/150\n",
      "90/90 [==============================] - 0s 538us/step - loss: 0.4118 - accuracy: 0.8159\n",
      "Epoch 103/150\n",
      "90/90 [==============================] - 0s 586us/step - loss: 0.4002 - accuracy: 0.8238\n",
      "Epoch 104/150\n",
      "90/90 [==============================] - 0s 569us/step - loss: 0.4236 - accuracy: 0.8171\n",
      "Epoch 105/150\n",
      "90/90 [==============================] - 0s 730us/step - loss: 0.4139 - accuracy: 0.8204\n",
      "Epoch 106/150\n",
      "90/90 [==============================] - 0s 605us/step - loss: 0.4331 - accuracy: 0.8081\n",
      "Epoch 107/150\n",
      "90/90 [==============================] - 0s 584us/step - loss: 0.4109 - accuracy: 0.8171\n",
      "Epoch 108/150\n",
      "90/90 [==============================] - 0s 616us/step - loss: 0.4063 - accuracy: 0.8159\n",
      "Epoch 109/150\n",
      "90/90 [==============================] - 0s 661us/step - loss: 0.4044 - accuracy: 0.8193\n",
      "Epoch 110/150\n",
      "90/90 [==============================] - 0s 540us/step - loss: 0.4047 - accuracy: 0.8283\n",
      "Epoch 111/150\n",
      "90/90 [==============================] - 0s 544us/step - loss: 0.4096 - accuracy: 0.8148\n",
      "Epoch 112/150\n",
      "90/90 [==============================] - 0s 527us/step - loss: 0.4293 - accuracy: 0.8171\n",
      "Epoch 113/150\n",
      "90/90 [==============================] - 0s 660us/step - loss: 0.4219 - accuracy: 0.8171\n",
      "Epoch 114/150\n",
      "90/90 [==============================] - 0s 626us/step - loss: 0.4260 - accuracy: 0.8103\n",
      "Epoch 115/150\n",
      "90/90 [==============================] - 0s 628us/step - loss: 0.4065 - accuracy: 0.8204\n",
      "Epoch 116/150\n",
      "90/90 [==============================] - 0s 535us/step - loss: 0.4171 - accuracy: 0.8114\n",
      "Epoch 117/150\n",
      "90/90 [==============================] - 0s 578us/step - loss: 0.4158 - accuracy: 0.8148\n",
      "Epoch 118/150\n",
      "90/90 [==============================] - 0s 555us/step - loss: 0.4390 - accuracy: 0.7969\n",
      "Epoch 119/150\n",
      "90/90 [==============================] - 0s 538us/step - loss: 0.4049 - accuracy: 0.8238\n",
      "Epoch 120/150\n",
      "90/90 [==============================] - 0s 537us/step - loss: 0.4066 - accuracy: 0.8272\n",
      "Epoch 121/150\n",
      "90/90 [==============================] - 0s 627us/step - loss: 0.4112 - accuracy: 0.8171\n",
      "Epoch 122/150\n",
      "90/90 [==============================] - 0s 691us/step - loss: 0.4128 - accuracy: 0.8148\n",
      "Epoch 123/150\n",
      "90/90 [==============================] - 0s 590us/step - loss: 0.4358 - accuracy: 0.8114\n",
      "Epoch 124/150\n",
      "90/90 [==============================] - 0s 582us/step - loss: 0.4101 - accuracy: 0.8103\n",
      "Epoch 125/150\n",
      "90/90 [==============================] - 0s 570us/step - loss: 0.4145 - accuracy: 0.8171\n",
      "Epoch 126/150\n",
      "90/90 [==============================] - 0s 551us/step - loss: 0.4122 - accuracy: 0.8114\n",
      "Epoch 127/150\n",
      "90/90 [==============================] - 0s 606us/step - loss: 0.4032 - accuracy: 0.8148\n",
      "Epoch 128/150\n",
      "90/90 [==============================] - 0s 579us/step - loss: 0.4075 - accuracy: 0.8081\n",
      "Epoch 129/150\n",
      "90/90 [==============================] - 0s 561us/step - loss: 0.4166 - accuracy: 0.8092\n",
      "Epoch 130/150\n",
      "90/90 [==============================] - 0s 587us/step - loss: 0.4172 - accuracy: 0.8171\n",
      "Epoch 131/150\n",
      "90/90 [==============================] - 0s 616us/step - loss: 0.4132 - accuracy: 0.8204\n",
      "Epoch 132/150\n",
      "90/90 [==============================] - 0s 538us/step - loss: 0.4085 - accuracy: 0.8204\n",
      "Epoch 133/150\n",
      "90/90 [==============================] - 0s 537us/step - loss: 0.4036 - accuracy: 0.8193\n",
      "Epoch 134/150\n",
      "90/90 [==============================] - 0s 545us/step - loss: 0.4175 - accuracy: 0.8137\n",
      "Epoch 135/150\n",
      "90/90 [==============================] - 0s 632us/step - loss: 0.4064 - accuracy: 0.8148\n",
      "Epoch 136/150\n",
      "90/90 [==============================] - 0s 592us/step - loss: 0.4090 - accuracy: 0.8148\n",
      "Epoch 137/150\n",
      "90/90 [==============================] - 0s 580us/step - loss: 0.4490 - accuracy: 0.7957\n",
      "Epoch 138/150\n",
      "90/90 [==============================] - 0s 534us/step - loss: 0.4152 - accuracy: 0.8182\n",
      "Epoch 139/150\n",
      "90/90 [==============================] - 0s 545us/step - loss: 0.4079 - accuracy: 0.8193\n",
      "Epoch 140/150\n",
      "90/90 [==============================] - 0s 575us/step - loss: 0.4196 - accuracy: 0.8114\n",
      "Epoch 141/150\n",
      "90/90 [==============================] - 0s 556us/step - loss: 0.4230 - accuracy: 0.8171\n",
      "Epoch 142/150\n",
      "90/90 [==============================] - 0s 548us/step - loss: 0.4371 - accuracy: 0.8058\n",
      "Epoch 143/150\n",
      "90/90 [==============================] - 0s 553us/step - loss: 0.4160 - accuracy: 0.8171\n",
      "Epoch 144/150\n",
      "90/90 [==============================] - 0s 560us/step - loss: 0.4062 - accuracy: 0.8148\n",
      "Epoch 145/150\n",
      "90/90 [==============================] - 0s 588us/step - loss: 0.4025 - accuracy: 0.8070\n",
      "Epoch 146/150\n",
      "90/90 [==============================] - 0s 553us/step - loss: 0.4211 - accuracy: 0.8137\n",
      "Epoch 147/150\n",
      "90/90 [==============================] - 0s 654us/step - loss: 0.4042 - accuracy: 0.8159\n",
      "Epoch 148/150\n",
      "90/90 [==============================] - 0s 683us/step - loss: 0.4104 - accuracy: 0.8193\n",
      "Epoch 149/150\n",
      "90/90 [==============================] - 0s 604us/step - loss: 0.4055 - accuracy: 0.8249\n",
      "Epoch 150/150\n",
      "90/90 [==============================] - 0s 553us/step - loss: 0.4083 - accuracy: 0.8137\n"
     ]
    }
   ],
   "source": [
    "history=model.fit(x,y,epochs=150,batch_size=10,verbose=1)"
   ]
  },
  {
   "cell_type": "code",
   "execution_count": 38,
   "metadata": {},
   "outputs": [
    {
     "name": "stdout",
     "output_type": "stream",
     "text": [
      "dict_keys(['loss', 'accuracy'])\n"
     ]
    }
   ],
   "source": [
    "print(history.history.keys())"
   ]
  },
  {
   "cell_type": "code",
   "execution_count": 39,
   "metadata": {},
   "outputs": [
    {
     "data": {
      "text/plain": [
       "<matplotlib.legend.Legend at 0x1ebf04cd310>"
      ]
     },
     "execution_count": 39,
     "metadata": {},
     "output_type": "execute_result"
    },
    {
     "data": {
      "image/png": "[encoded data removed]",
      "text/plain": [
       "<Figure size 432x288 with 1 Axes>"
      ]
     },
     "metadata": {
      "needs_background": "light"
     },
     "output_type": "display_data"
    }
   ],
   "source": [
    "fig1=plt.figure(1)\n",
    "plt.plot(history.history[\"accuracy\"])\n",
    "plt.plot(history.history[\"loss\"])\n",
    "plt.title(\"Model Accuracy\")\n",
    "plt.xlabel(\"Accuracy\")\n",
    "plt.ylabel(\"Epoch\")\n",
    "plt.legend([\"training\", \"testing\"], loc= \"upper left\")"
   ]
  },
  {
   "cell_type": "markdown",
   "metadata": {},
   "source": [
    "## 2.Model"
   ]
  },
  {
   "cell_type": "code",
   "execution_count": 66,
   "metadata": {},
   "outputs": [],
   "source": [
    "model=Sequential()\n",
    "model.add(Dense(14,activation='relu'))\n",
    "model.add(Dense(9,activation='relu'))\n",
    "model.add(Dense(4,activation='relu'))\n",
    "model.add(Dense(1,activation='sigmoid'))"
   ]
  },
  {
   "cell_type": "code",
   "execution_count": 67,
   "metadata": {},
   "outputs": [],
   "source": [
    "model.compile(loss='binary_crossentropy',optimizer=\"adam\",metrics=[\"accuracy\"])"
   ]
  },
  {
   "cell_type": "code",
   "execution_count": 68,
   "metadata": {
    "scrolled": true
   },
   "outputs": [
    {
     "name": "stdout",
     "output_type": "stream",
     "text": [
      "Epoch 1/200\n",
      "72/72 - 1s - loss: 13.1218 - accuracy: 0.4059 - val_loss: 15.1004 - val_accuracy: 0.3575\n",
      "Epoch 2/200\n",
      "72/72 - 0s - loss: 1.9191 - accuracy: 0.5730 - val_loss: 0.7282 - val_accuracy: 0.6760\n",
      "Epoch 3/200\n",
      "72/72 - 0s - loss: 0.6882 - accuracy: 0.6798 - val_loss: 0.6396 - val_accuracy: 0.7318\n",
      "Epoch 4/200\n",
      "72/72 - 0s - loss: 0.6739 - accuracy: 0.6756 - val_loss: 0.6273 - val_accuracy: 0.7318\n",
      "Epoch 5/200\n",
      "72/72 - 0s - loss: 0.6663 - accuracy: 0.6756 - val_loss: 0.6311 - val_accuracy: 0.7151\n",
      "Epoch 6/200\n",
      "72/72 - 0s - loss: 0.6638 - accuracy: 0.6699 - val_loss: 0.6372 - val_accuracy: 0.7095\n",
      "Epoch 7/200\n",
      "72/72 - 0s - loss: 0.6595 - accuracy: 0.6629 - val_loss: 0.6551 - val_accuracy: 0.6704\n",
      "Epoch 8/200\n",
      "72/72 - 0s - loss: 0.6561 - accuracy: 0.6671 - val_loss: 0.6252 - val_accuracy: 0.7095\n",
      "Epoch 9/200\n",
      "72/72 - 0s - loss: 0.6512 - accuracy: 0.6685 - val_loss: 0.6239 - val_accuracy: 0.7095\n",
      "Epoch 10/200\n",
      "72/72 - 0s - loss: 0.6467 - accuracy: 0.6742 - val_loss: 0.6427 - val_accuracy: 0.6927\n",
      "Epoch 11/200\n",
      "72/72 - 0s - loss: 0.6437 - accuracy: 0.6756 - val_loss: 0.6060 - val_accuracy: 0.7207\n",
      "Epoch 12/200\n",
      "72/72 - 0s - loss: 0.6404 - accuracy: 0.6770 - val_loss: 0.6295 - val_accuracy: 0.6927\n",
      "Epoch 13/200\n",
      "72/72 - 0s - loss: 0.6347 - accuracy: 0.6924 - val_loss: 0.6401 - val_accuracy: 0.6872\n",
      "Epoch 14/200\n",
      "72/72 - 0s - loss: 0.6311 - accuracy: 0.6868 - val_loss: 0.7494 - val_accuracy: 0.5978\n",
      "Epoch 15/200\n",
      "72/72 - 0s - loss: 0.6271 - accuracy: 0.6938 - val_loss: 0.5898 - val_accuracy: 0.7207\n",
      "Epoch 16/200\n",
      "72/72 - 0s - loss: 0.6255 - accuracy: 0.6896 - val_loss: 0.6279 - val_accuracy: 0.6983\n",
      "Epoch 17/200\n",
      "72/72 - 0s - loss: 0.6196 - accuracy: 0.7037 - val_loss: 0.5743 - val_accuracy: 0.7263\n",
      "Epoch 18/200\n",
      "72/72 - 0s - loss: 0.6240 - accuracy: 0.6882 - val_loss: 0.5604 - val_accuracy: 0.7486\n",
      "Epoch 19/200\n",
      "72/72 - 0s - loss: 0.6175 - accuracy: 0.6896 - val_loss: 0.6386 - val_accuracy: 0.6760\n",
      "Epoch 20/200\n",
      "72/72 - 0s - loss: 0.6131 - accuracy: 0.6938 - val_loss: 0.5767 - val_accuracy: 0.7151\n",
      "Epoch 21/200\n",
      "72/72 - 0s - loss: 0.6181 - accuracy: 0.6938 - val_loss: 0.6017 - val_accuracy: 0.6983\n",
      "Epoch 22/200\n",
      "72/72 - 0s - loss: 0.6133 - accuracy: 0.6882 - val_loss: 0.5475 - val_accuracy: 0.7709\n",
      "Epoch 23/200\n",
      "72/72 - 0s - loss: 0.6106 - accuracy: 0.6952 - val_loss: 0.5408 - val_accuracy: 0.7542\n",
      "Epoch 24/200\n",
      "72/72 - 0s - loss: 0.6077 - accuracy: 0.6980 - val_loss: 0.5644 - val_accuracy: 0.7318\n",
      "Epoch 25/200\n",
      "72/72 - 0s - loss: 0.6030 - accuracy: 0.7163 - val_loss: 0.6453 - val_accuracy: 0.6536\n",
      "Epoch 26/200\n",
      "72/72 - 0s - loss: 0.5997 - accuracy: 0.7037 - val_loss: 0.5690 - val_accuracy: 0.7263\n",
      "Epoch 27/200\n",
      "72/72 - 0s - loss: 0.6010 - accuracy: 0.7008 - val_loss: 0.5758 - val_accuracy: 0.7095\n",
      "Epoch 28/200\n",
      "72/72 - 0s - loss: 0.5997 - accuracy: 0.7022 - val_loss: 0.5497 - val_accuracy: 0.7430\n",
      "Epoch 29/200\n",
      "72/72 - 0s - loss: 0.5921 - accuracy: 0.7093 - val_loss: 0.5320 - val_accuracy: 0.7430\n",
      "Epoch 30/200\n",
      "72/72 - 0s - loss: 0.5875 - accuracy: 0.7121 - val_loss: 0.5574 - val_accuracy: 0.7095\n",
      "Epoch 31/200\n",
      "72/72 - 0s - loss: 0.5972 - accuracy: 0.7051 - val_loss: 0.5660 - val_accuracy: 0.7486\n",
      "Epoch 32/200\n",
      "72/72 - 0s - loss: 0.5777 - accuracy: 0.7149 - val_loss: 0.5143 - val_accuracy: 0.7430\n",
      "Epoch 33/200\n",
      "72/72 - 0s - loss: 0.5731 - accuracy: 0.7275 - val_loss: 0.6008 - val_accuracy: 0.7095\n",
      "Epoch 34/200\n",
      "72/72 - 0s - loss: 0.5645 - accuracy: 0.7065 - val_loss: 0.4900 - val_accuracy: 0.7486\n",
      "Epoch 35/200\n",
      "72/72 - 0s - loss: 0.5520 - accuracy: 0.7191 - val_loss: 0.4740 - val_accuracy: 0.7318\n",
      "Epoch 36/200\n",
      "72/72 - 0s - loss: 0.5474 - accuracy: 0.7317 - val_loss: 0.4972 - val_accuracy: 0.7542\n",
      "Epoch 37/200\n",
      "72/72 - 0s - loss: 0.5404 - accuracy: 0.7205 - val_loss: 0.4739 - val_accuracy: 0.7765\n",
      "Epoch 38/200\n",
      "72/72 - 0s - loss: 0.5369 - accuracy: 0.7317 - val_loss: 0.4674 - val_accuracy: 0.7709\n",
      "Epoch 39/200\n",
      "72/72 - 0s - loss: 0.5208 - accuracy: 0.7486 - val_loss: 0.6363 - val_accuracy: 0.6704\n",
      "Epoch 40/200\n",
      "72/72 - 0s - loss: 0.5315 - accuracy: 0.7472 - val_loss: 0.4198 - val_accuracy: 0.8101\n",
      "Epoch 41/200\n",
      "72/72 - 0s - loss: 0.5483 - accuracy: 0.7191 - val_loss: 0.4381 - val_accuracy: 0.7486\n",
      "Epoch 42/200\n",
      "72/72 - 0s - loss: 0.5143 - accuracy: 0.7556 - val_loss: 0.4256 - val_accuracy: 0.7709\n",
      "Epoch 43/200\n",
      "72/72 - 0s - loss: 0.5012 - accuracy: 0.7598 - val_loss: 0.9072 - val_accuracy: 0.4302\n",
      "Epoch 44/200\n",
      "72/72 - 0s - loss: 0.5245 - accuracy: 0.7584 - val_loss: 0.4682 - val_accuracy: 0.7765\n",
      "Epoch 45/200\n",
      "72/72 - 0s - loss: 0.5060 - accuracy: 0.7640 - val_loss: 0.5744 - val_accuracy: 0.7430\n",
      "Epoch 46/200\n",
      "72/72 - 0s - loss: 0.5071 - accuracy: 0.7612 - val_loss: 0.4435 - val_accuracy: 0.8045\n",
      "Epoch 47/200\n",
      "72/72 - 0s - loss: 0.4947 - accuracy: 0.7781 - val_loss: 0.6623 - val_accuracy: 0.6704\n",
      "Epoch 48/200\n",
      "72/72 - 0s - loss: 0.4967 - accuracy: 0.7753 - val_loss: 0.4048 - val_accuracy: 0.7933\n",
      "Epoch 49/200\n",
      "72/72 - 0s - loss: 0.4844 - accuracy: 0.7837 - val_loss: 0.4476 - val_accuracy: 0.7989\n",
      "Epoch 50/200\n",
      "72/72 - 0s - loss: 0.4887 - accuracy: 0.7865 - val_loss: 0.5326 - val_accuracy: 0.7654\n",
      "Epoch 51/200\n",
      "72/72 - 0s - loss: 0.4860 - accuracy: 0.7879 - val_loss: 0.3934 - val_accuracy: 0.7933\n",
      "Epoch 52/200\n",
      "72/72 - 0s - loss: 0.4864 - accuracy: 0.7907 - val_loss: 0.5274 - val_accuracy: 0.7598\n",
      "Epoch 53/200\n",
      "72/72 - 0s - loss: 0.4892 - accuracy: 0.7921 - val_loss: 0.6066 - val_accuracy: 0.6983\n",
      "Epoch 54/200\n",
      "72/72 - 0s - loss: 0.4811 - accuracy: 0.8006 - val_loss: 0.4141 - val_accuracy: 0.8156\n",
      "Epoch 55/200\n",
      "72/72 - 0s - loss: 0.4910 - accuracy: 0.7767 - val_loss: 0.3804 - val_accuracy: 0.7933\n",
      "Epoch 56/200\n",
      "72/72 - 0s - loss: 0.4689 - accuracy: 0.8090 - val_loss: 0.4262 - val_accuracy: 0.8101\n",
      "Epoch 57/200\n",
      "72/72 - 0s - loss: 0.4764 - accuracy: 0.7935 - val_loss: 0.3926 - val_accuracy: 0.7989\n",
      "Epoch 58/200\n",
      "72/72 - 0s - loss: 0.4808 - accuracy: 0.7865 - val_loss: 0.5997 - val_accuracy: 0.7709\n",
      "Epoch 59/200\n",
      "72/72 - 0s - loss: 0.4687 - accuracy: 0.7907 - val_loss: 0.4960 - val_accuracy: 0.7821\n",
      "Epoch 60/200\n",
      "72/72 - 0s - loss: 0.4671 - accuracy: 0.7978 - val_loss: 0.5179 - val_accuracy: 0.7877\n",
      "Epoch 61/200\n",
      "72/72 - 0s - loss: 0.4695 - accuracy: 0.7935 - val_loss: 0.4570 - val_accuracy: 0.8045\n",
      "Epoch 62/200\n",
      "72/72 - 0s - loss: 0.4730 - accuracy: 0.7978 - val_loss: 0.4108 - val_accuracy: 0.7821\n",
      "Epoch 63/200\n",
      "72/72 - 0s - loss: 0.4711 - accuracy: 0.7949 - val_loss: 0.3698 - val_accuracy: 0.8156\n",
      "Epoch 64/200\n",
      "72/72 - 0s - loss: 0.4602 - accuracy: 0.7978 - val_loss: 0.3955 - val_accuracy: 0.8268\n",
      "Epoch 65/200\n",
      "72/72 - 0s - loss: 0.4520 - accuracy: 0.8034 - val_loss: 0.3759 - val_accuracy: 0.7989\n",
      "Epoch 66/200\n",
      "72/72 - 0s - loss: 0.4733 - accuracy: 0.8020 - val_loss: 0.4135 - val_accuracy: 0.8045\n",
      "Epoch 67/200\n",
      "72/72 - 0s - loss: 0.4672 - accuracy: 0.7893 - val_loss: 0.3712 - val_accuracy: 0.8380\n",
      "Epoch 68/200\n",
      "72/72 - 0s - loss: 0.4553 - accuracy: 0.7935 - val_loss: 0.3962 - val_accuracy: 0.8045\n",
      "Epoch 69/200\n",
      "72/72 - 0s - loss: 0.4582 - accuracy: 0.7978 - val_loss: 0.4897 - val_accuracy: 0.8045\n",
      "Epoch 70/200\n",
      "72/72 - 0s - loss: 0.4534 - accuracy: 0.8034 - val_loss: 0.4130 - val_accuracy: 0.7933\n",
      "Epoch 71/200\n",
      "72/72 - 0s - loss: 0.4491 - accuracy: 0.8104 - val_loss: 0.3775 - val_accuracy: 0.8156\n",
      "Epoch 72/200\n",
      "72/72 - 0s - loss: 0.4479 - accuracy: 0.8076 - val_loss: 0.3797 - val_accuracy: 0.7989\n",
      "Epoch 73/200\n",
      "72/72 - 0s - loss: 0.4448 - accuracy: 0.8104 - val_loss: 0.4020 - val_accuracy: 0.8045\n",
      "Epoch 74/200\n",
      "72/72 - 0s - loss: 0.4431 - accuracy: 0.8020 - val_loss: 0.3868 - val_accuracy: 0.7821\n",
      "Epoch 75/200\n",
      "72/72 - 0s - loss: 0.4577 - accuracy: 0.8062 - val_loss: 0.4281 - val_accuracy: 0.7933\n",
      "Epoch 76/200\n",
      "72/72 - 0s - loss: 0.4480 - accuracy: 0.7963 - val_loss: 0.3839 - val_accuracy: 0.8380\n",
      "Epoch 77/200\n",
      "72/72 - 0s - loss: 0.4341 - accuracy: 0.8076 - val_loss: 0.4571 - val_accuracy: 0.8101\n",
      "Epoch 78/200\n",
      "72/72 - 0s - loss: 0.4425 - accuracy: 0.8104 - val_loss: 0.3880 - val_accuracy: 0.8045\n",
      "Epoch 79/200\n",
      "72/72 - 0s - loss: 0.4372 - accuracy: 0.8006 - val_loss: 0.3554 - val_accuracy: 0.8268\n",
      "Epoch 80/200\n",
      "72/72 - 0s - loss: 0.4463 - accuracy: 0.8062 - val_loss: 0.3931 - val_accuracy: 0.8156\n",
      "Epoch 81/200\n",
      "72/72 - 0s - loss: 0.4389 - accuracy: 0.8034 - val_loss: 0.3763 - val_accuracy: 0.8101\n",
      "Epoch 82/200\n",
      "72/72 - 0s - loss: 0.4313 - accuracy: 0.8146 - val_loss: 0.4786 - val_accuracy: 0.7989\n"
     ]
    },
    {
     "name": "stdout",
     "output_type": "stream",
     "text": [
      "Epoch 83/200\n",
      "72/72 - 0s - loss: 0.4407 - accuracy: 0.8104 - val_loss: 0.3588 - val_accuracy: 0.8156\n",
      "Epoch 84/200\n",
      "72/72 - 0s - loss: 0.4313 - accuracy: 0.8174 - val_loss: 0.4153 - val_accuracy: 0.8045\n",
      "Epoch 85/200\n",
      "72/72 - 0s - loss: 0.4289 - accuracy: 0.8174 - val_loss: 0.3555 - val_accuracy: 0.8156\n",
      "Epoch 86/200\n",
      "72/72 - 0s - loss: 0.4401 - accuracy: 0.8104 - val_loss: 0.4391 - val_accuracy: 0.7989\n",
      "Epoch 87/200\n",
      "72/72 - 0s - loss: 0.4303 - accuracy: 0.8132 - val_loss: 0.3689 - val_accuracy: 0.8436\n",
      "Epoch 88/200\n",
      "72/72 - 0s - loss: 0.4307 - accuracy: 0.8048 - val_loss: 0.3719 - val_accuracy: 0.8324\n",
      "Epoch 89/200\n",
      "72/72 - 0s - loss: 0.4257 - accuracy: 0.8146 - val_loss: 0.3697 - val_accuracy: 0.8268\n",
      "Epoch 90/200\n",
      "72/72 - 0s - loss: 0.4256 - accuracy: 0.8174 - val_loss: 0.3760 - val_accuracy: 0.8045\n",
      "Epoch 91/200\n",
      "72/72 - 0s - loss: 0.4269 - accuracy: 0.8034 - val_loss: 0.3706 - val_accuracy: 0.8045\n",
      "Epoch 92/200\n",
      "72/72 - 0s - loss: 0.4247 - accuracy: 0.8216 - val_loss: 0.3614 - val_accuracy: 0.8212\n",
      "Epoch 93/200\n",
      "72/72 - 0s - loss: 0.4314 - accuracy: 0.8076 - val_loss: 0.4519 - val_accuracy: 0.8156\n",
      "Epoch 94/200\n",
      "72/72 - 0s - loss: 0.4277 - accuracy: 0.8146 - val_loss: 0.3716 - val_accuracy: 0.8156\n",
      "Epoch 95/200\n",
      "72/72 - 0s - loss: 0.4271 - accuracy: 0.8202 - val_loss: 0.4379 - val_accuracy: 0.8045\n",
      "Epoch 96/200\n",
      "72/72 - 0s - loss: 0.4302 - accuracy: 0.8146 - val_loss: 0.3735 - val_accuracy: 0.8324\n",
      "Epoch 97/200\n",
      "72/72 - 0s - loss: 0.4200 - accuracy: 0.8258 - val_loss: 0.3731 - val_accuracy: 0.8324\n",
      "Epoch 98/200\n",
      "72/72 - 0s - loss: 0.4262 - accuracy: 0.8132 - val_loss: 0.6862 - val_accuracy: 0.7654\n",
      "Epoch 99/200\n",
      "72/72 - 0s - loss: 0.4241 - accuracy: 0.8132 - val_loss: 0.3762 - val_accuracy: 0.7989\n",
      "Epoch 100/200\n",
      "72/72 - 0s - loss: 0.4202 - accuracy: 0.8230 - val_loss: 0.3821 - val_accuracy: 0.8101\n",
      "Epoch 101/200\n",
      "72/72 - 0s - loss: 0.4275 - accuracy: 0.8146 - val_loss: 0.5048 - val_accuracy: 0.7821\n",
      "Epoch 102/200\n",
      "72/72 - 0s - loss: 0.4293 - accuracy: 0.8202 - val_loss: 0.3651 - val_accuracy: 0.7989\n",
      "Epoch 103/200\n",
      "72/72 - 0s - loss: 0.4236 - accuracy: 0.8174 - val_loss: 0.4676 - val_accuracy: 0.8045\n",
      "Epoch 104/200\n",
      "72/72 - 0s - loss: 0.4215 - accuracy: 0.8188 - val_loss: 0.3834 - val_accuracy: 0.8045\n",
      "Epoch 105/200\n",
      "72/72 - 0s - loss: 0.4254 - accuracy: 0.8160 - val_loss: 0.3682 - val_accuracy: 0.8212\n",
      "Epoch 106/200\n",
      "72/72 - 0s - loss: 0.4249 - accuracy: 0.8301 - val_loss: 0.4110 - val_accuracy: 0.8268\n",
      "Epoch 107/200\n",
      "72/72 - 0s - loss: 0.4335 - accuracy: 0.8132 - val_loss: 0.4459 - val_accuracy: 0.8045\n",
      "Epoch 108/200\n",
      "72/72 - 0s - loss: 0.4154 - accuracy: 0.8287 - val_loss: 0.3925 - val_accuracy: 0.8156\n",
      "Epoch 109/200\n",
      "72/72 - 0s - loss: 0.4220 - accuracy: 0.8202 - val_loss: 0.3605 - val_accuracy: 0.8436\n",
      "Epoch 110/200\n",
      "72/72 - 0s - loss: 0.4172 - accuracy: 0.8174 - val_loss: 0.4518 - val_accuracy: 0.8156\n",
      "Epoch 111/200\n",
      "72/72 - 0s - loss: 0.4243 - accuracy: 0.8104 - val_loss: 0.4408 - val_accuracy: 0.8156\n",
      "Epoch 112/200\n",
      "72/72 - 0s - loss: 0.4399 - accuracy: 0.8034 - val_loss: 0.3807 - val_accuracy: 0.8101\n",
      "Epoch 113/200\n",
      "72/72 - 0s - loss: 0.4164 - accuracy: 0.8244 - val_loss: 0.3698 - val_accuracy: 0.8045\n",
      "Epoch 114/200\n",
      "72/72 - 0s - loss: 0.4156 - accuracy: 0.8188 - val_loss: 0.4006 - val_accuracy: 0.8101\n",
      "Epoch 115/200\n",
      "72/72 - 0s - loss: 0.4121 - accuracy: 0.8216 - val_loss: 0.3847 - val_accuracy: 0.8045\n",
      "Epoch 116/200\n",
      "72/72 - 0s - loss: 0.4134 - accuracy: 0.8160 - val_loss: 0.3718 - val_accuracy: 0.8212\n",
      "Epoch 117/200\n",
      "72/72 - 0s - loss: 0.4273 - accuracy: 0.8146 - val_loss: 0.4022 - val_accuracy: 0.8045\n",
      "Epoch 118/200\n",
      "72/72 - 0s - loss: 0.4118 - accuracy: 0.8174 - val_loss: 0.4011 - val_accuracy: 0.8324\n",
      "Epoch 119/200\n",
      "72/72 - 0s - loss: 0.4260 - accuracy: 0.8258 - val_loss: 0.3794 - val_accuracy: 0.8324\n",
      "Epoch 120/200\n",
      "72/72 - 0s - loss: 0.4058 - accuracy: 0.8272 - val_loss: 0.3997 - val_accuracy: 0.8101\n",
      "Epoch 121/200\n",
      "72/72 - 0s - loss: 0.4089 - accuracy: 0.8258 - val_loss: 0.3748 - val_accuracy: 0.8156\n",
      "Epoch 122/200\n",
      "72/72 - 0s - loss: 0.4277 - accuracy: 0.8188 - val_loss: 0.4736 - val_accuracy: 0.8156\n",
      "Epoch 123/200\n",
      "72/72 - 0s - loss: 0.4296 - accuracy: 0.8216 - val_loss: 0.4183 - val_accuracy: 0.8045\n",
      "Epoch 124/200\n",
      "72/72 - 0s - loss: 0.4149 - accuracy: 0.8287 - val_loss: 0.4590 - val_accuracy: 0.7989\n",
      "Epoch 125/200\n",
      "72/72 - 0s - loss: 0.4112 - accuracy: 0.8301 - val_loss: 0.3608 - val_accuracy: 0.8156\n",
      "Epoch 126/200\n",
      "72/72 - 0s - loss: 0.4152 - accuracy: 0.8287 - val_loss: 0.3928 - val_accuracy: 0.8324\n",
      "Epoch 127/200\n",
      "72/72 - 0s - loss: 0.4081 - accuracy: 0.8287 - val_loss: 0.3682 - val_accuracy: 0.8156\n",
      "Epoch 128/200\n",
      "72/72 - 0s - loss: 0.4250 - accuracy: 0.8160 - val_loss: 0.3789 - val_accuracy: 0.8380\n",
      "Epoch 129/200\n",
      "72/72 - 0s - loss: 0.4161 - accuracy: 0.8202 - val_loss: 0.3879 - val_accuracy: 0.8212\n",
      "Epoch 130/200\n",
      "72/72 - 0s - loss: 0.4009 - accuracy: 0.8272 - val_loss: 0.4097 - val_accuracy: 0.8324\n",
      "Epoch 131/200\n",
      "72/72 - 0s - loss: 0.4061 - accuracy: 0.8258 - val_loss: 0.3541 - val_accuracy: 0.8268\n",
      "Epoch 132/200\n",
      "72/72 - 0s - loss: 0.4123 - accuracy: 0.8258 - val_loss: 0.3625 - val_accuracy: 0.8156\n",
      "Epoch 133/200\n",
      "72/72 - 0s - loss: 0.4089 - accuracy: 0.8230 - val_loss: 0.3718 - val_accuracy: 0.8156\n",
      "Epoch 134/200\n",
      "72/72 - 0s - loss: 0.4295 - accuracy: 0.8146 - val_loss: 0.4136 - val_accuracy: 0.8156\n",
      "Epoch 135/200\n",
      "72/72 - 0s - loss: 0.4049 - accuracy: 0.8343 - val_loss: 0.4106 - val_accuracy: 0.8324\n",
      "Epoch 136/200\n",
      "72/72 - 0s - loss: 0.3991 - accuracy: 0.8357 - val_loss: 0.4098 - val_accuracy: 0.8101\n",
      "Epoch 137/200\n",
      "72/72 - 0s - loss: 0.4015 - accuracy: 0.8287 - val_loss: 0.3748 - val_accuracy: 0.8212\n",
      "Epoch 138/200\n",
      "72/72 - 0s - loss: 0.4017 - accuracy: 0.8385 - val_loss: 0.3851 - val_accuracy: 0.8268\n",
      "Epoch 139/200\n",
      "72/72 - 0s - loss: 0.4080 - accuracy: 0.8301 - val_loss: 0.6149 - val_accuracy: 0.7765\n",
      "Epoch 140/200\n",
      "72/72 - 0s - loss: 0.4088 - accuracy: 0.8244 - val_loss: 0.3979 - val_accuracy: 0.8045\n",
      "Epoch 141/200\n",
      "72/72 - 0s - loss: 0.3973 - accuracy: 0.8343 - val_loss: 0.3686 - val_accuracy: 0.8212\n",
      "Epoch 142/200\n",
      "72/72 - 0s - loss: 0.4148 - accuracy: 0.8188 - val_loss: 0.4282 - val_accuracy: 0.8101\n",
      "Epoch 143/200\n",
      "72/72 - 0s - loss: 0.4145 - accuracy: 0.8244 - val_loss: 0.3729 - val_accuracy: 0.8212\n",
      "Epoch 144/200\n",
      "72/72 - 0s - loss: 0.4013 - accuracy: 0.8244 - val_loss: 0.4560 - val_accuracy: 0.8045\n",
      "Epoch 145/200\n",
      "72/72 - 0s - loss: 0.3965 - accuracy: 0.8357 - val_loss: 0.4206 - val_accuracy: 0.8045\n",
      "Epoch 146/200\n",
      "72/72 - 0s - loss: 0.3918 - accuracy: 0.8399 - val_loss: 0.3864 - val_accuracy: 0.8156\n",
      "Epoch 147/200\n",
      "72/72 - 0s - loss: 0.3988 - accuracy: 0.8202 - val_loss: 0.3756 - val_accuracy: 0.8212\n",
      "Epoch 148/200\n",
      "72/72 - 0s - loss: 0.3938 - accuracy: 0.8385 - val_loss: 0.4003 - val_accuracy: 0.8101\n",
      "Epoch 149/200\n",
      "72/72 - 0s - loss: 0.4029 - accuracy: 0.8315 - val_loss: 0.3820 - val_accuracy: 0.8156\n",
      "Epoch 150/200\n",
      "72/72 - 0s - loss: 0.3901 - accuracy: 0.8329 - val_loss: 0.3617 - val_accuracy: 0.8268\n",
      "Epoch 151/200\n",
      "72/72 - 0s - loss: 0.4137 - accuracy: 0.8258 - val_loss: 0.4130 - val_accuracy: 0.8212\n",
      "Epoch 152/200\n",
      "72/72 - 0s - loss: 0.4018 - accuracy: 0.8301 - val_loss: 0.5274 - val_accuracy: 0.7989\n",
      "Epoch 153/200\n",
      "72/72 - 0s - loss: 0.4088 - accuracy: 0.8216 - val_loss: 0.5131 - val_accuracy: 0.8045\n",
      "Epoch 154/200\n",
      "72/72 - 0s - loss: 0.4166 - accuracy: 0.8188 - val_loss: 0.4895 - val_accuracy: 0.8156\n",
      "Epoch 155/200\n",
      "72/72 - 0s - loss: 0.4060 - accuracy: 0.8258 - val_loss: 0.4019 - val_accuracy: 0.8268\n",
      "Epoch 156/200\n",
      "72/72 - 0s - loss: 0.4071 - accuracy: 0.8329 - val_loss: 0.5468 - val_accuracy: 0.7933\n",
      "Epoch 157/200\n",
      "72/72 - 0s - loss: 0.4090 - accuracy: 0.8357 - val_loss: 0.4251 - val_accuracy: 0.8380\n",
      "Epoch 158/200\n",
      "72/72 - 0s - loss: 0.4013 - accuracy: 0.8301 - val_loss: 0.4514 - val_accuracy: 0.7989\n",
      "Epoch 159/200\n",
      "72/72 - 0s - loss: 0.4129 - accuracy: 0.8258 - val_loss: 0.4585 - val_accuracy: 0.8212\n",
      "Epoch 160/200\n",
      "72/72 - 0s - loss: 0.3993 - accuracy: 0.8329 - val_loss: 0.3770 - val_accuracy: 0.8156\n",
      "Epoch 161/200\n",
      "72/72 - 0s - loss: 0.4166 - accuracy: 0.8287 - val_loss: 0.5973 - val_accuracy: 0.7933\n",
      "Epoch 162/200\n",
      "72/72 - 0s - loss: 0.4080 - accuracy: 0.8301 - val_loss: 0.4665 - val_accuracy: 0.8212\n",
      "Epoch 163/200\n",
      "72/72 - 0s - loss: 0.4029 - accuracy: 0.8371 - val_loss: 0.4362 - val_accuracy: 0.8324\n",
      "Epoch 164/200\n",
      "72/72 - 0s - loss: 0.4043 - accuracy: 0.8272 - val_loss: 0.4026 - val_accuracy: 0.8324\n"
     ]
    },
    {
     "name": "stdout",
     "output_type": "stream",
     "text": [
      "Epoch 165/200\n",
      "72/72 - 0s - loss: 0.3977 - accuracy: 0.8413 - val_loss: 0.5668 - val_accuracy: 0.7877\n",
      "Epoch 166/200\n",
      "72/72 - 0s - loss: 0.4146 - accuracy: 0.8329 - val_loss: 0.4597 - val_accuracy: 0.8380\n",
      "Epoch 167/200\n",
      "72/72 - 0s - loss: 0.4043 - accuracy: 0.8202 - val_loss: 0.3944 - val_accuracy: 0.8045\n",
      "Epoch 168/200\n",
      "72/72 - 0s - loss: 0.4010 - accuracy: 0.8371 - val_loss: 0.3900 - val_accuracy: 0.8156\n",
      "Epoch 169/200\n",
      "72/72 - 0s - loss: 0.4061 - accuracy: 0.8301 - val_loss: 0.3946 - val_accuracy: 0.8156\n",
      "Epoch 170/200\n",
      "72/72 - 0s - loss: 0.3891 - accuracy: 0.8399 - val_loss: 0.3935 - val_accuracy: 0.8101\n",
      "Epoch 171/200\n",
      "72/72 - 0s - loss: 0.3957 - accuracy: 0.8343 - val_loss: 0.4069 - val_accuracy: 0.8045\n",
      "Epoch 172/200\n",
      "72/72 - 0s - loss: 0.4107 - accuracy: 0.8371 - val_loss: 0.4125 - val_accuracy: 0.8101\n",
      "Epoch 173/200\n",
      "72/72 - 0s - loss: 0.3993 - accuracy: 0.8287 - val_loss: 0.3911 - val_accuracy: 0.8268\n",
      "Epoch 174/200\n",
      "72/72 - 0s - loss: 0.3852 - accuracy: 0.8357 - val_loss: 0.4118 - val_accuracy: 0.8045\n",
      "Epoch 175/200\n",
      "72/72 - 0s - loss: 0.3991 - accuracy: 0.8315 - val_loss: 0.3739 - val_accuracy: 0.8268\n",
      "Epoch 176/200\n",
      "72/72 - 0s - loss: 0.3858 - accuracy: 0.8385 - val_loss: 0.4150 - val_accuracy: 0.8101\n",
      "Epoch 177/200\n",
      "72/72 - 0s - loss: 0.3913 - accuracy: 0.8427 - val_loss: 0.4374 - val_accuracy: 0.8268\n",
      "Epoch 178/200\n",
      "72/72 - 0s - loss: 0.3921 - accuracy: 0.8357 - val_loss: 0.4365 - val_accuracy: 0.8324\n",
      "Epoch 179/200\n",
      "72/72 - 0s - loss: 0.3925 - accuracy: 0.8315 - val_loss: 0.4905 - val_accuracy: 0.8156\n",
      "Epoch 180/200\n",
      "72/72 - 0s - loss: 0.4003 - accuracy: 0.8357 - val_loss: 0.3955 - val_accuracy: 0.8156\n",
      "Epoch 181/200\n",
      "72/72 - 0s - loss: 0.4104 - accuracy: 0.8272 - val_loss: 0.3950 - val_accuracy: 0.8101\n",
      "Epoch 182/200\n",
      "72/72 - 0s - loss: 0.3938 - accuracy: 0.8315 - val_loss: 0.3923 - val_accuracy: 0.8268\n",
      "Epoch 183/200\n",
      "72/72 - 0s - loss: 0.3920 - accuracy: 0.8385 - val_loss: 0.3791 - val_accuracy: 0.8045\n",
      "Epoch 184/200\n",
      "72/72 - 0s - loss: 0.3861 - accuracy: 0.8469 - val_loss: 0.4231 - val_accuracy: 0.8045\n",
      "Epoch 185/200\n",
      "72/72 - 0s - loss: 0.3875 - accuracy: 0.8441 - val_loss: 0.4483 - val_accuracy: 0.8156\n",
      "Epoch 186/200\n",
      "72/72 - 0s - loss: 0.3925 - accuracy: 0.8385 - val_loss: 0.4898 - val_accuracy: 0.8156\n",
      "Epoch 187/200\n",
      "72/72 - 0s - loss: 0.4287 - accuracy: 0.8174 - val_loss: 0.4320 - val_accuracy: 0.8436\n",
      "Epoch 188/200\n",
      "72/72 - 0s - loss: 0.4032 - accuracy: 0.8343 - val_loss: 0.4072 - val_accuracy: 0.8156\n",
      "Epoch 189/200\n",
      "72/72 - 0s - loss: 0.3896 - accuracy: 0.8385 - val_loss: 0.3983 - val_accuracy: 0.8212\n",
      "Epoch 190/200\n",
      "72/72 - 0s - loss: 0.3944 - accuracy: 0.8399 - val_loss: 0.4973 - val_accuracy: 0.7933\n",
      "Epoch 191/200\n",
      "72/72 - 0s - loss: 0.3890 - accuracy: 0.8315 - val_loss: 0.3970 - val_accuracy: 0.8045\n",
      "Epoch 192/200\n",
      "72/72 - 0s - loss: 0.4002 - accuracy: 0.8357 - val_loss: 0.4570 - val_accuracy: 0.8045\n",
      "Epoch 193/200\n",
      "72/72 - 0s - loss: 0.3931 - accuracy: 0.8427 - val_loss: 0.4114 - val_accuracy: 0.8380\n",
      "Epoch 194/200\n",
      "72/72 - 0s - loss: 0.3866 - accuracy: 0.8385 - val_loss: 0.3876 - val_accuracy: 0.8324\n",
      "Epoch 195/200\n",
      "72/72 - 0s - loss: 0.3858 - accuracy: 0.8385 - val_loss: 0.3821 - val_accuracy: 0.8268\n",
      "Epoch 196/200\n",
      "72/72 - 0s - loss: 0.3860 - accuracy: 0.8399 - val_loss: 0.3936 - val_accuracy: 0.8156\n",
      "Epoch 197/200\n",
      "72/72 - 0s - loss: 0.3865 - accuracy: 0.8399 - val_loss: 0.4495 - val_accuracy: 0.8324\n",
      "Epoch 198/200\n",
      "72/72 - 0s - loss: 0.3942 - accuracy: 0.8315 - val_loss: 0.4437 - val_accuracy: 0.8045\n",
      "Epoch 199/200\n",
      "72/72 - 0s - loss: 0.3884 - accuracy: 0.8301 - val_loss: 0.3904 - val_accuracy: 0.8212\n",
      "Epoch 200/200\n",
      "72/72 - 0s - loss: 0.3911 - accuracy: 0.8511 - val_loss: 0.3939 - val_accuracy: 0.8156\n"
     ]
    },
    {
     "data": {
      "text/plain": [
       "<tensorflow.python.keras.callbacks.History at 0x1ebf413a040>"
      ]
     },
     "execution_count": 68,
     "metadata": {},
     "output_type": "execute_result"
    }
   ],
   "source": [
    "model.fit(x,y,validation_split=0.2,epochs=200,batch_size=10,verbose=2)"
   ]
  },
  {
   "cell_type": "code",
   "execution_count": 69,
   "metadata": {
    "scrolled": true
   },
   "outputs": [
    {
     "name": "stdout",
     "output_type": "stream",
     "text": [
      "Model: \"sequential_4\"\n",
      "_________________________________________________________________\n",
      "Layer (type)                 Output Shape              Param #   \n",
      "=================================================================\n",
      "dense_20 (Dense)             (None, 14)                210       \n",
      "_________________________________________________________________\n",
      "dense_21 (Dense)             (None, 9)                 135       \n",
      "_________________________________________________________________\n",
      "dense_22 (Dense)             (None, 4)                 40        \n",
      "_________________________________________________________________\n",
      "dense_23 (Dense)             (None, 1)                 5         \n",
      "=================================================================\n",
      "Total params: 390\n",
      "Trainable params: 390\n",
      "Non-trainable params: 0\n",
      "_________________________________________________________________\n"
     ]
    }
   ],
   "source": [
    "model.summary()"
   ]
  },
  {
   "cell_type": "code",
   "execution_count": 70,
   "metadata": {},
   "outputs": [
    {
     "name": "stdout",
     "output_type": "stream",
     "text": [
      "28/28 [==============================] - 0s 940us/step - loss: 0.3750 - accuracy: 0.8462\n"
     ]
    }
   ],
   "source": [
    "scores=model.evaluate(x,y)"
   ]
  },
  {
   "cell_type": "code",
   "execution_count": 71,
   "metadata": {},
   "outputs": [
    {
     "name": "stdout",
     "output_type": "stream",
     "text": [
      "accuracy: 84.62%\n"
     ]
    }
   ],
   "source": [
    "print(\"%s: %.2f%%\" % (model.metrics_names[1],scores[1]*100))"
   ]
  },
  {
   "cell_type": "code",
   "execution_count": 72,
   "metadata": {},
   "outputs": [
    {
     "name": "stdout",
     "output_type": "stream",
     "text": [
      "AxesSubplot(0.125,0.125;0.775x0.755)\n"
     ]
    },
    {
     "data": {
      "text/html": [
       "<div>\n",
       "<style scoped>\n",
       "    .dataframe tbody tr th:only-of-type {\n",
       "        vertical-align: middle;\n",
       "    }\n",
       "\n",
       "    .dataframe tbody tr th {\n",
       "        vertical-align: top;\n",
       "    }\n",
       "\n",
       "    .dataframe thead th {\n",
       "        text-align: right;\n",
       "    }\n",
       "</style>\n",
       "<table border=\"1\" class=\"dataframe\">\n",
       "  <thead>\n",
       "    <tr style=\"text-align: right;\">\n",
       "      <th></th>\n",
       "      <th>PassengerId</th>\n",
       "      <th>Predict</th>\n",
       "      <th>Survived</th>\n",
       "    </tr>\n",
       "  </thead>\n",
       "  <tbody>\n",
       "    <tr>\n",
       "      <th>891</th>\n",
       "      <td>892</td>\n",
       "      <td>0.063919</td>\n",
       "      <td>0</td>\n",
       "    </tr>\n",
       "    <tr>\n",
       "      <th>892</th>\n",
       "      <td>893</td>\n",
       "      <td>0.109399</td>\n",
       "      <td>0</td>\n",
       "    </tr>\n",
       "    <tr>\n",
       "      <th>893</th>\n",
       "      <td>894</td>\n",
       "      <td>0.063213</td>\n",
       "      <td>0</td>\n",
       "    </tr>\n",
       "    <tr>\n",
       "      <th>894</th>\n",
       "      <td>895</td>\n",
       "      <td>0.056440</td>\n",
       "      <td>0</td>\n",
       "    </tr>\n",
       "    <tr>\n",
       "      <th>895</th>\n",
       "      <td>896</td>\n",
       "      <td>0.129269</td>\n",
       "      <td>0</td>\n",
       "    </tr>\n",
       "    <tr>\n",
       "      <th>...</th>\n",
       "      <td>...</td>\n",
       "      <td>...</td>\n",
       "      <td>...</td>\n",
       "    </tr>\n",
       "    <tr>\n",
       "      <th>1304</th>\n",
       "      <td>1305</td>\n",
       "      <td>0.024574</td>\n",
       "      <td>0</td>\n",
       "    </tr>\n",
       "    <tr>\n",
       "      <th>1305</th>\n",
       "      <td>1306</td>\n",
       "      <td>0.999885</td>\n",
       "      <td>1</td>\n",
       "    </tr>\n",
       "    <tr>\n",
       "      <th>1306</th>\n",
       "      <td>1307</td>\n",
       "      <td>0.021672</td>\n",
       "      <td>0</td>\n",
       "    </tr>\n",
       "    <tr>\n",
       "      <th>1307</th>\n",
       "      <td>1308</td>\n",
       "      <td>0.024439</td>\n",
       "      <td>0</td>\n",
       "    </tr>\n",
       "    <tr>\n",
       "      <th>1308</th>\n",
       "      <td>1309</td>\n",
       "      <td>0.979852</td>\n",
       "      <td>1</td>\n",
       "    </tr>\n",
       "  </tbody>\n",
       "</table>\n",
       "<p>418 rows × 3 columns</p>\n",
       "</div>"
      ],
      "text/plain": [
       "      PassengerId   Predict  Survived\n",
       "891           892  0.063919         0\n",
       "892           893  0.109399         0\n",
       "893           894  0.063213         0\n",
       "894           895  0.056440         0\n",
       "895           896  0.129269         0\n",
       "...           ...       ...       ...\n",
       "1304         1305  0.024574         0\n",
       "1305         1306  0.999885         1\n",
       "1306         1307  0.021672         0\n",
       "1307         1308  0.024439         0\n",
       "1308         1309  0.979852         1\n",
       "\n",
       "[418 rows x 3 columns]"
      ]
     },
     "execution_count": 72,
     "metadata": {},
     "output_type": "execute_result"
    },
    {
     "data": {
      "image/png": "[encoded data removed]",
      "text/plain": [
       "<Figure size 432x288 with 1 Axes>"
      ]
     },
     "metadata": {
      "needs_background": "light"
     },
     "output_type": "display_data"
    }
   ],
   "source": [
    "## İkinci model için model.fit(x,y,validation_split=0.2,epochs=200,batch_size=10,verbose=2))\n",
    "result_func(model,2)"
   ]
  },
  {
   "attachments": {
    "image-2.png": {
     "image/png": "[encoded data removed]"
    }
   },
   "cell_type": "markdown",
   "metadata": {},
   "source": [
    "![image-2.png](attachment:image-2.png)"
   ]
  },
  {
   "cell_type": "code",
   "execution_count": 73,
   "metadata": {
    "scrolled": true
   },
   "outputs": [
    {
     "name": "stdout",
     "output_type": "stream",
     "text": [
      "Epoch 1/200\n",
      "72/72 - 0s - loss: 0.3829 - accuracy: 0.8469 - val_loss: 0.5121 - val_accuracy: 0.8212\n",
      "Epoch 2/200\n",
      "72/72 - 0s - loss: 0.3901 - accuracy: 0.8441 - val_loss: 0.3979 - val_accuracy: 0.8212\n",
      "Epoch 3/200\n",
      "72/72 - 0s - loss: 0.3819 - accuracy: 0.8455 - val_loss: 0.4189 - val_accuracy: 0.8268\n",
      "Epoch 4/200\n",
      "72/72 - 0s - loss: 0.3824 - accuracy: 0.8385 - val_loss: 0.4207 - val_accuracy: 0.8045\n",
      "Epoch 5/200\n",
      "72/72 - 0s - loss: 0.3885 - accuracy: 0.8371 - val_loss: 0.4046 - val_accuracy: 0.8268\n",
      "Epoch 6/200\n",
      "72/72 - 0s - loss: 0.4137 - accuracy: 0.8160 - val_loss: 0.4031 - val_accuracy: 0.8156\n",
      "Epoch 7/200\n",
      "72/72 - 0s - loss: 0.3974 - accuracy: 0.8287 - val_loss: 0.4234 - val_accuracy: 0.8101\n",
      "Epoch 8/200\n",
      "72/72 - 0s - loss: 0.3849 - accuracy: 0.8483 - val_loss: 0.4023 - val_accuracy: 0.8380\n",
      "Epoch 9/200\n",
      "72/72 - 0s - loss: 0.3892 - accuracy: 0.8371 - val_loss: 0.3956 - val_accuracy: 0.8156\n",
      "Epoch 10/200\n",
      "72/72 - 0s - loss: 0.3728 - accuracy: 0.8469 - val_loss: 0.4068 - val_accuracy: 0.8268\n",
      "Epoch 11/200\n",
      "72/72 - 0s - loss: 0.3767 - accuracy: 0.8525 - val_loss: 0.3902 - val_accuracy: 0.8380\n",
      "Epoch 12/200\n",
      "72/72 - 0s - loss: 0.3842 - accuracy: 0.8455 - val_loss: 0.7081 - val_accuracy: 0.7598\n",
      "Epoch 13/200\n",
      "72/72 - 0s - loss: 0.3874 - accuracy: 0.8329 - val_loss: 0.4637 - val_accuracy: 0.8380\n",
      "Epoch 14/200\n",
      "72/72 - 0s - loss: 0.3759 - accuracy: 0.8441 - val_loss: 0.4404 - val_accuracy: 0.8380\n",
      "Epoch 15/200\n",
      "72/72 - 0s - loss: 0.3873 - accuracy: 0.8483 - val_loss: 0.4330 - val_accuracy: 0.8212\n",
      "Epoch 16/200\n",
      "72/72 - 0s - loss: 0.3831 - accuracy: 0.8399 - val_loss: 0.4447 - val_accuracy: 0.7933\n",
      "Epoch 17/200\n",
      "72/72 - 0s - loss: 0.3808 - accuracy: 0.8483 - val_loss: 0.5510 - val_accuracy: 0.8045\n",
      "Epoch 18/200\n",
      "72/72 - 0s - loss: 0.4402 - accuracy: 0.8118 - val_loss: 0.5254 - val_accuracy: 0.8045\n",
      "Epoch 19/200\n",
      "72/72 - 0s - loss: 0.3810 - accuracy: 0.8413 - val_loss: 0.4808 - val_accuracy: 0.8156\n",
      "Epoch 20/200\n",
      "72/72 - 0s - loss: 0.3953 - accuracy: 0.8287 - val_loss: 0.4611 - val_accuracy: 0.8045\n",
      "Epoch 21/200\n",
      "72/72 - 0s - loss: 0.3912 - accuracy: 0.8427 - val_loss: 0.6361 - val_accuracy: 0.7765\n",
      "Epoch 22/200\n",
      "72/72 - 0s - loss: 0.4022 - accuracy: 0.8315 - val_loss: 0.5613 - val_accuracy: 0.8045\n",
      "Epoch 23/200\n",
      "72/72 - 0s - loss: 0.3865 - accuracy: 0.8455 - val_loss: 0.4142 - val_accuracy: 0.8101\n",
      "Epoch 24/200\n",
      "72/72 - 0s - loss: 0.3832 - accuracy: 0.8399 - val_loss: 0.4279 - val_accuracy: 0.8101\n",
      "Epoch 25/200\n",
      "72/72 - 0s - loss: 0.3877 - accuracy: 0.8399 - val_loss: 0.4338 - val_accuracy: 0.8380\n",
      "Epoch 26/200\n",
      "72/72 - 0s - loss: 0.3822 - accuracy: 0.8455 - val_loss: 0.4284 - val_accuracy: 0.8101\n",
      "Epoch 27/200\n",
      "72/72 - 0s - loss: 0.3816 - accuracy: 0.8413 - val_loss: 0.4434 - val_accuracy: 0.8324\n",
      "Epoch 28/200\n",
      "72/72 - 0s - loss: 0.3749 - accuracy: 0.8399 - val_loss: 0.4213 - val_accuracy: 0.8324\n",
      "Epoch 29/200\n",
      "72/72 - 0s - loss: 0.3767 - accuracy: 0.8385 - val_loss: 0.4602 - val_accuracy: 0.8324\n",
      "Epoch 30/200\n",
      "72/72 - 0s - loss: 0.3732 - accuracy: 0.8399 - val_loss: 0.3977 - val_accuracy: 0.8268\n",
      "Epoch 31/200\n",
      "72/72 - 0s - loss: 0.3767 - accuracy: 0.8371 - val_loss: 0.4182 - val_accuracy: 0.8212\n",
      "Epoch 32/200\n",
      "72/72 - 0s - loss: 0.3815 - accuracy: 0.8455 - val_loss: 0.4091 - val_accuracy: 0.8101\n",
      "Epoch 33/200\n",
      "72/72 - 0s - loss: 0.3782 - accuracy: 0.8497 - val_loss: 0.4054 - val_accuracy: 0.8380\n",
      "Epoch 34/200\n",
      "72/72 - 0s - loss: 0.3823 - accuracy: 0.8357 - val_loss: 0.4480 - val_accuracy: 0.8380\n",
      "Epoch 35/200\n",
      "72/72 - 0s - loss: 0.3910 - accuracy: 0.8272 - val_loss: 0.5246 - val_accuracy: 0.8101\n",
      "Epoch 36/200\n",
      "72/72 - 0s - loss: 0.3725 - accuracy: 0.8469 - val_loss: 0.4015 - val_accuracy: 0.8045\n",
      "Epoch 37/200\n",
      "72/72 - 0s - loss: 0.3722 - accuracy: 0.8469 - val_loss: 0.3804 - val_accuracy: 0.8324\n",
      "Epoch 38/200\n",
      "72/72 - 0s - loss: 0.3782 - accuracy: 0.8427 - val_loss: 0.4015 - val_accuracy: 0.8324\n",
      "Epoch 39/200\n",
      "72/72 - 0s - loss: 0.3723 - accuracy: 0.8413 - val_loss: 0.3997 - val_accuracy: 0.8324\n",
      "Epoch 40/200\n",
      "72/72 - 0s - loss: 0.3740 - accuracy: 0.8553 - val_loss: 0.5547 - val_accuracy: 0.8045\n",
      "Epoch 41/200\n",
      "72/72 - 0s - loss: 0.3855 - accuracy: 0.8371 - val_loss: 0.5016 - val_accuracy: 0.8045\n",
      "Epoch 42/200\n",
      "72/72 - 0s - loss: 0.4020 - accuracy: 0.8315 - val_loss: 0.4254 - val_accuracy: 0.8101\n",
      "Epoch 43/200\n",
      "72/72 - 0s - loss: 0.3761 - accuracy: 0.8497 - val_loss: 0.3980 - val_accuracy: 0.8380\n",
      "Epoch 44/200\n",
      "72/72 - 0s - loss: 0.3710 - accuracy: 0.8511 - val_loss: 0.3727 - val_accuracy: 0.8324\n",
      "Epoch 45/200\n",
      "72/72 - 0s - loss: 0.3740 - accuracy: 0.8483 - val_loss: 0.5671 - val_accuracy: 0.8045\n",
      "Epoch 46/200\n",
      "72/72 - 0s - loss: 0.3918 - accuracy: 0.8315 - val_loss: 0.4505 - val_accuracy: 0.8101\n",
      "Epoch 47/200\n",
      "72/72 - 0s - loss: 0.3777 - accuracy: 0.8567 - val_loss: 0.3877 - val_accuracy: 0.8324\n",
      "Epoch 48/200\n",
      "72/72 - 0s - loss: 0.3823 - accuracy: 0.8385 - val_loss: 0.4992 - val_accuracy: 0.8212\n",
      "Epoch 49/200\n",
      "72/72 - 0s - loss: 0.3743 - accuracy: 0.8553 - val_loss: 0.3932 - val_accuracy: 0.8045\n",
      "Epoch 50/200\n",
      "72/72 - 0s - loss: 0.3744 - accuracy: 0.8469 - val_loss: 0.4116 - val_accuracy: 0.8324\n",
      "Epoch 51/200\n",
      "72/72 - 0s - loss: 0.3723 - accuracy: 0.8371 - val_loss: 0.4289 - val_accuracy: 0.7989\n",
      "Epoch 52/200\n",
      "72/72 - 0s - loss: 0.3802 - accuracy: 0.8469 - val_loss: 0.3947 - val_accuracy: 0.8101\n",
      "Epoch 53/200\n",
      "72/72 - 0s - loss: 0.3805 - accuracy: 0.8469 - val_loss: 0.5437 - val_accuracy: 0.8101\n",
      "Epoch 54/200\n",
      "72/72 - 0s - loss: 0.3822 - accuracy: 0.8427 - val_loss: 0.4029 - val_accuracy: 0.8324\n",
      "Epoch 55/200\n",
      "72/72 - 0s - loss: 0.3662 - accuracy: 0.8511 - val_loss: 0.4865 - val_accuracy: 0.8156\n",
      "Epoch 56/200\n",
      "72/72 - 0s - loss: 0.3828 - accuracy: 0.8343 - val_loss: 0.3877 - val_accuracy: 0.8212\n",
      "Epoch 57/200\n",
      "72/72 - 0s - loss: 0.3825 - accuracy: 0.8399 - val_loss: 0.4418 - val_accuracy: 0.8324\n",
      "Epoch 58/200\n",
      "72/72 - 0s - loss: 0.3676 - accuracy: 0.8497 - val_loss: 0.4138 - val_accuracy: 0.8045\n",
      "Epoch 59/200\n",
      "72/72 - 0s - loss: 0.3724 - accuracy: 0.8483 - val_loss: 0.4199 - val_accuracy: 0.8212\n",
      "Epoch 60/200\n",
      "72/72 - 0s - loss: 0.3750 - accuracy: 0.8455 - val_loss: 0.6320 - val_accuracy: 0.7877\n",
      "Epoch 61/200\n",
      "72/72 - 0s - loss: 0.3738 - accuracy: 0.8525 - val_loss: 0.4358 - val_accuracy: 0.8324\n",
      "Epoch 62/200\n",
      "72/72 - 0s - loss: 0.3830 - accuracy: 0.8329 - val_loss: 0.7633 - val_accuracy: 0.7989\n",
      "Epoch 63/200\n",
      "72/72 - 0s - loss: 0.3842 - accuracy: 0.8329 - val_loss: 0.4204 - val_accuracy: 0.8268\n",
      "Epoch 64/200\n",
      "72/72 - 0s - loss: 0.3792 - accuracy: 0.8441 - val_loss: 0.4274 - val_accuracy: 0.8101\n",
      "Epoch 65/200\n",
      "72/72 - 0s - loss: 0.3778 - accuracy: 0.8441 - val_loss: 0.4493 - val_accuracy: 0.8268\n",
      "Epoch 66/200\n",
      "72/72 - 0s - loss: 0.3697 - accuracy: 0.8525 - val_loss: 0.4142 - val_accuracy: 0.8156\n",
      "Epoch 67/200\n",
      "72/72 - 0s - loss: 0.3808 - accuracy: 0.8455 - val_loss: 0.3931 - val_accuracy: 0.8212\n",
      "Epoch 68/200\n",
      "72/72 - 0s - loss: 0.3732 - accuracy: 0.8483 - val_loss: 0.3915 - val_accuracy: 0.8268\n",
      "Epoch 69/200\n",
      "72/72 - 0s - loss: 0.3820 - accuracy: 0.8371 - val_loss: 0.4527 - val_accuracy: 0.8156\n",
      "Epoch 70/200\n",
      "72/72 - 0s - loss: 0.3713 - accuracy: 0.8427 - val_loss: 0.3809 - val_accuracy: 0.8212\n",
      "Epoch 71/200\n",
      "72/72 - 0s - loss: 0.3740 - accuracy: 0.8469 - val_loss: 0.4112 - val_accuracy: 0.8156\n",
      "Epoch 72/200\n",
      "72/72 - 0s - loss: 0.3671 - accuracy: 0.8581 - val_loss: 0.4151 - val_accuracy: 0.8101\n",
      "Epoch 73/200\n",
      "72/72 - 0s - loss: 0.3726 - accuracy: 0.8469 - val_loss: 0.5363 - val_accuracy: 0.8212\n",
      "Epoch 74/200\n",
      "72/72 - 0s - loss: 0.3843 - accuracy: 0.8371 - val_loss: 0.4007 - val_accuracy: 0.8101\n",
      "Epoch 75/200\n",
      "72/72 - 0s - loss: 0.3655 - accuracy: 0.8511 - val_loss: 0.4169 - val_accuracy: 0.8268\n",
      "Epoch 76/200\n",
      "72/72 - 0s - loss: 0.3689 - accuracy: 0.8539 - val_loss: 0.5002 - val_accuracy: 0.7821\n",
      "Epoch 77/200\n",
      "72/72 - 0s - loss: 0.3775 - accuracy: 0.8427 - val_loss: 0.4044 - val_accuracy: 0.8212\n",
      "Epoch 78/200\n",
      "72/72 - 0s - loss: 0.3687 - accuracy: 0.8511 - val_loss: 0.6602 - val_accuracy: 0.7877\n",
      "Epoch 79/200\n",
      "72/72 - 0s - loss: 0.3746 - accuracy: 0.8511 - val_loss: 0.4806 - val_accuracy: 0.8101\n",
      "Epoch 80/200\n",
      "72/72 - 0s - loss: 0.3789 - accuracy: 0.8385 - val_loss: 0.4641 - val_accuracy: 0.7933\n",
      "Epoch 81/200\n",
      "72/72 - 0s - loss: 0.3829 - accuracy: 0.8329 - val_loss: 0.3978 - val_accuracy: 0.8268\n",
      "Epoch 82/200\n",
      "72/72 - 0s - loss: 0.3685 - accuracy: 0.8399 - val_loss: 0.3965 - val_accuracy: 0.8324\n",
      "Epoch 83/200\n"
     ]
    },
    {
     "name": "stdout",
     "output_type": "stream",
     "text": [
      "72/72 - 0s - loss: 0.3710 - accuracy: 0.8441 - val_loss: 0.4452 - val_accuracy: 0.8045\n",
      "Epoch 84/200\n",
      "72/72 - 0s - loss: 0.3731 - accuracy: 0.8483 - val_loss: 0.4234 - val_accuracy: 0.7989\n",
      "Epoch 85/200\n",
      "72/72 - 0s - loss: 0.3765 - accuracy: 0.8441 - val_loss: 0.4271 - val_accuracy: 0.8156\n",
      "Epoch 86/200\n",
      "72/72 - 0s - loss: 0.3754 - accuracy: 0.8427 - val_loss: 0.4436 - val_accuracy: 0.8101\n",
      "Epoch 87/200\n",
      "72/72 - 0s - loss: 0.3677 - accuracy: 0.8497 - val_loss: 0.4025 - val_accuracy: 0.8156\n",
      "Epoch 88/200\n",
      "72/72 - 0s - loss: 0.3767 - accuracy: 0.8469 - val_loss: 0.4041 - val_accuracy: 0.8212\n",
      "Epoch 89/200\n",
      "72/72 - 0s - loss: 0.3646 - accuracy: 0.8539 - val_loss: 0.4297 - val_accuracy: 0.8436\n",
      "Epoch 90/200\n",
      "72/72 - 0s - loss: 0.3706 - accuracy: 0.8399 - val_loss: 0.4878 - val_accuracy: 0.8380\n",
      "Epoch 91/200\n",
      "72/72 - 0s - loss: 0.3725 - accuracy: 0.8427 - val_loss: 0.4865 - val_accuracy: 0.8324\n",
      "Epoch 92/200\n",
      "72/72 - 0s - loss: 0.3672 - accuracy: 0.8385 - val_loss: 0.4625 - val_accuracy: 0.8436\n",
      "Epoch 93/200\n",
      "72/72 - 0s - loss: 0.3912 - accuracy: 0.8315 - val_loss: 0.4383 - val_accuracy: 0.7933\n",
      "Epoch 94/200\n",
      "72/72 - 0s - loss: 0.3805 - accuracy: 0.8329 - val_loss: 0.4836 - val_accuracy: 0.8324\n",
      "Epoch 95/200\n",
      "72/72 - 0s - loss: 0.3728 - accuracy: 0.8483 - val_loss: 0.4081 - val_accuracy: 0.8156\n",
      "Epoch 96/200\n",
      "72/72 - 0s - loss: 0.3697 - accuracy: 0.8483 - val_loss: 0.5280 - val_accuracy: 0.8212\n",
      "Epoch 97/200\n",
      "72/72 - 0s - loss: 0.3657 - accuracy: 0.8553 - val_loss: 0.4720 - val_accuracy: 0.8212\n",
      "Epoch 98/200\n",
      "72/72 - 0s - loss: 0.3665 - accuracy: 0.8497 - val_loss: 0.4040 - val_accuracy: 0.8156\n",
      "Epoch 99/200\n",
      "72/72 - 0s - loss: 0.3801 - accuracy: 0.8357 - val_loss: 0.4273 - val_accuracy: 0.8156\n",
      "Epoch 100/200\n",
      "72/72 - 0s - loss: 0.3851 - accuracy: 0.8343 - val_loss: 0.4027 - val_accuracy: 0.8045\n",
      "Epoch 101/200\n",
      "72/72 - 0s - loss: 0.3776 - accuracy: 0.8399 - val_loss: 0.4075 - val_accuracy: 0.8156\n",
      "Epoch 102/200\n",
      "72/72 - 0s - loss: 0.3750 - accuracy: 0.8301 - val_loss: 0.5514 - val_accuracy: 0.8156\n",
      "Epoch 103/200\n",
      "72/72 - 0s - loss: 0.3906 - accuracy: 0.8258 - val_loss: 0.4655 - val_accuracy: 0.8045\n",
      "Epoch 104/200\n",
      "72/72 - 0s - loss: 0.3833 - accuracy: 0.8385 - val_loss: 0.3708 - val_accuracy: 0.8156\n",
      "Epoch 105/200\n",
      "72/72 - 0s - loss: 0.3784 - accuracy: 0.8469 - val_loss: 0.4090 - val_accuracy: 0.8268\n",
      "Epoch 106/200\n",
      "72/72 - 0s - loss: 0.3772 - accuracy: 0.8483 - val_loss: 0.4403 - val_accuracy: 0.7989\n",
      "Epoch 107/200\n",
      "72/72 - 0s - loss: 0.3794 - accuracy: 0.8469 - val_loss: 0.5788 - val_accuracy: 0.8101\n",
      "Epoch 108/200\n",
      "72/72 - 0s - loss: 0.3759 - accuracy: 0.8357 - val_loss: 0.4414 - val_accuracy: 0.8268\n",
      "Epoch 109/200\n",
      "72/72 - 0s - loss: 0.3757 - accuracy: 0.8399 - val_loss: 0.4822 - val_accuracy: 0.7933\n",
      "Epoch 110/200\n",
      "72/72 - 0s - loss: 0.3981 - accuracy: 0.8272 - val_loss: 0.5084 - val_accuracy: 0.7765\n",
      "Epoch 111/200\n",
      "72/72 - 0s - loss: 0.3743 - accuracy: 0.8469 - val_loss: 0.4392 - val_accuracy: 0.8268\n",
      "Epoch 112/200\n",
      "72/72 - 0s - loss: 0.3682 - accuracy: 0.8483 - val_loss: 0.4108 - val_accuracy: 0.8324\n",
      "Epoch 113/200\n",
      "72/72 - 0s - loss: 0.3668 - accuracy: 0.8441 - val_loss: 0.4159 - val_accuracy: 0.8380\n",
      "Epoch 114/200\n",
      "72/72 - 0s - loss: 0.3657 - accuracy: 0.8525 - val_loss: 0.4281 - val_accuracy: 0.8324\n",
      "Epoch 115/200\n",
      "72/72 - 0s - loss: 0.3786 - accuracy: 0.8343 - val_loss: 0.3817 - val_accuracy: 0.8380\n",
      "Epoch 116/200\n",
      "72/72 - 0s - loss: 0.3832 - accuracy: 0.8287 - val_loss: 0.4124 - val_accuracy: 0.8101\n",
      "Epoch 117/200\n",
      "72/72 - 0s - loss: 0.3762 - accuracy: 0.8399 - val_loss: 0.4549 - val_accuracy: 0.7933\n",
      "Epoch 118/200\n",
      "72/72 - 0s - loss: 0.3658 - accuracy: 0.8525 - val_loss: 0.3818 - val_accuracy: 0.8268\n",
      "Epoch 119/200\n",
      "72/72 - 0s - loss: 0.3681 - accuracy: 0.8525 - val_loss: 0.4096 - val_accuracy: 0.8212\n",
      "Epoch 120/200\n",
      "72/72 - 0s - loss: 0.4215 - accuracy: 0.8371 - val_loss: 0.4296 - val_accuracy: 0.8101\n",
      "Epoch 121/200\n",
      "72/72 - 0s - loss: 0.3657 - accuracy: 0.8483 - val_loss: 0.4726 - val_accuracy: 0.8436\n",
      "Epoch 122/200\n",
      "72/72 - 0s - loss: 0.3795 - accuracy: 0.8539 - val_loss: 0.3796 - val_accuracy: 0.8324\n",
      "Epoch 123/200\n",
      "72/72 - 0s - loss: 0.3739 - accuracy: 0.8399 - val_loss: 0.4336 - val_accuracy: 0.8101\n",
      "Epoch 124/200\n",
      "72/72 - 0s - loss: 0.3667 - accuracy: 0.8497 - val_loss: 0.4388 - val_accuracy: 0.8268\n",
      "Epoch 125/200\n",
      "72/72 - 0s - loss: 0.3628 - accuracy: 0.8483 - val_loss: 0.4851 - val_accuracy: 0.8380\n",
      "Epoch 126/200\n",
      "72/72 - 0s - loss: 0.3704 - accuracy: 0.8525 - val_loss: 0.4561 - val_accuracy: 0.8045\n",
      "Epoch 127/200\n",
      "72/72 - 0s - loss: 0.3762 - accuracy: 0.8455 - val_loss: 0.4461 - val_accuracy: 0.8101\n",
      "Epoch 128/200\n",
      "72/72 - 0s - loss: 0.3713 - accuracy: 0.8455 - val_loss: 0.3946 - val_accuracy: 0.8212\n",
      "Epoch 129/200\n",
      "72/72 - 0s - loss: 0.3761 - accuracy: 0.8427 - val_loss: 0.4104 - val_accuracy: 0.8156\n",
      "Epoch 130/200\n",
      "72/72 - 0s - loss: 0.3663 - accuracy: 0.8483 - val_loss: 0.3689 - val_accuracy: 0.8380\n",
      "Epoch 131/200\n",
      "72/72 - 0s - loss: 0.3676 - accuracy: 0.8427 - val_loss: 0.4236 - val_accuracy: 0.8101\n",
      "Epoch 132/200\n",
      "72/72 - 0s - loss: 0.3700 - accuracy: 0.8497 - val_loss: 0.5275 - val_accuracy: 0.8324\n",
      "Epoch 133/200\n",
      "72/72 - 0s - loss: 0.3725 - accuracy: 0.8511 - val_loss: 0.4850 - val_accuracy: 0.8324\n",
      "Epoch 134/200\n",
      "72/72 - 0s - loss: 0.3680 - accuracy: 0.8469 - val_loss: 0.4173 - val_accuracy: 0.8324\n",
      "Epoch 135/200\n",
      "72/72 - 0s - loss: 0.3649 - accuracy: 0.8483 - val_loss: 0.5444 - val_accuracy: 0.8212\n",
      "Epoch 136/200\n",
      "72/72 - 0s - loss: 0.3670 - accuracy: 0.8427 - val_loss: 0.4220 - val_accuracy: 0.8212\n",
      "Epoch 137/200\n",
      "72/72 - 0s - loss: 0.3746 - accuracy: 0.8511 - val_loss: 0.3835 - val_accuracy: 0.8324\n",
      "Epoch 138/200\n",
      "72/72 - 0s - loss: 0.3614 - accuracy: 0.8539 - val_loss: 0.3962 - val_accuracy: 0.8212\n",
      "Epoch 139/200\n",
      "72/72 - 0s - loss: 0.3660 - accuracy: 0.8469 - val_loss: 0.3898 - val_accuracy: 0.8212\n",
      "Epoch 140/200\n",
      "72/72 - 0s - loss: 0.3737 - accuracy: 0.8497 - val_loss: 0.4157 - val_accuracy: 0.8156\n",
      "Epoch 141/200\n",
      "72/72 - 0s - loss: 0.3737 - accuracy: 0.8441 - val_loss: 0.4179 - val_accuracy: 0.8101\n",
      "Epoch 142/200\n",
      "72/72 - 0s - loss: 0.3689 - accuracy: 0.8483 - val_loss: 0.5412 - val_accuracy: 0.8101\n",
      "Epoch 143/200\n",
      "72/72 - 0s - loss: 0.3662 - accuracy: 0.8483 - val_loss: 0.4570 - val_accuracy: 0.7989\n",
      "Epoch 144/200\n",
      "72/72 - 0s - loss: 0.3683 - accuracy: 0.8441 - val_loss: 0.4423 - val_accuracy: 0.8324\n",
      "Epoch 145/200\n",
      "72/72 - 0s - loss: 0.3647 - accuracy: 0.8497 - val_loss: 0.4211 - val_accuracy: 0.8212\n",
      "Epoch 146/200\n",
      "72/72 - 0s - loss: 0.3681 - accuracy: 0.8441 - val_loss: 0.6520 - val_accuracy: 0.7933\n",
      "Epoch 147/200\n",
      "72/72 - 0s - loss: 0.3741 - accuracy: 0.8427 - val_loss: 0.3993 - val_accuracy: 0.8268\n",
      "Epoch 148/200\n",
      "72/72 - 0s - loss: 0.3623 - accuracy: 0.8469 - val_loss: 0.4169 - val_accuracy: 0.8380\n",
      "Epoch 149/200\n",
      "72/72 - 0s - loss: 0.3644 - accuracy: 0.8497 - val_loss: 0.3970 - val_accuracy: 0.8156\n",
      "Epoch 150/200\n",
      "72/72 - 0s - loss: 0.3690 - accuracy: 0.8413 - val_loss: 0.3986 - val_accuracy: 0.8156\n",
      "Epoch 151/200\n",
      "72/72 - 0s - loss: 0.3717 - accuracy: 0.8511 - val_loss: 0.3813 - val_accuracy: 0.8324\n",
      "Epoch 152/200\n",
      "72/72 - 0s - loss: 0.3638 - accuracy: 0.8413 - val_loss: 0.3926 - val_accuracy: 0.8212\n",
      "Epoch 153/200\n",
      "72/72 - 0s - loss: 0.3638 - accuracy: 0.8483 - val_loss: 0.4555 - val_accuracy: 0.8380\n",
      "Epoch 154/200\n",
      "72/72 - 0s - loss: 0.3753 - accuracy: 0.8427 - val_loss: 0.3804 - val_accuracy: 0.8268\n",
      "Epoch 155/200\n",
      "72/72 - 0s - loss: 0.3684 - accuracy: 0.8427 - val_loss: 0.3961 - val_accuracy: 0.8324\n",
      "Epoch 156/200\n",
      "72/72 - 0s - loss: 0.3706 - accuracy: 0.8399 - val_loss: 0.3951 - val_accuracy: 0.8045\n",
      "Epoch 157/200\n",
      "72/72 - 0s - loss: 0.3716 - accuracy: 0.8427 - val_loss: 0.4366 - val_accuracy: 0.8380\n",
      "Epoch 158/200\n",
      "72/72 - 0s - loss: 0.3633 - accuracy: 0.8497 - val_loss: 0.4934 - val_accuracy: 0.8268\n",
      "Epoch 159/200\n",
      "72/72 - 0s - loss: 0.3575 - accuracy: 0.8596 - val_loss: 0.3893 - val_accuracy: 0.8324\n",
      "Epoch 160/200\n",
      "72/72 - 0s - loss: 0.3589 - accuracy: 0.8539 - val_loss: 0.4507 - val_accuracy: 0.8324\n",
      "Epoch 161/200\n",
      "72/72 - 0s - loss: 0.3771 - accuracy: 0.8427 - val_loss: 0.6497 - val_accuracy: 0.7877\n",
      "Epoch 162/200\n",
      "72/72 - 0s - loss: 0.3685 - accuracy: 0.8427 - val_loss: 0.3840 - val_accuracy: 0.8268\n",
      "Epoch 163/200\n",
      "72/72 - 0s - loss: 0.3609 - accuracy: 0.8483 - val_loss: 0.4151 - val_accuracy: 0.8212\n",
      "Epoch 164/200\n",
      "72/72 - 0s - loss: 0.3683 - accuracy: 0.8413 - val_loss: 0.4746 - val_accuracy: 0.8324\n"
     ]
    },
    {
     "name": "stdout",
     "output_type": "stream",
     "text": [
      "Epoch 165/200\n",
      "72/72 - 0s - loss: 0.3629 - accuracy: 0.8469 - val_loss: 0.4148 - val_accuracy: 0.8492\n",
      "Epoch 166/200\n",
      "72/72 - 0s - loss: 0.3628 - accuracy: 0.8413 - val_loss: 0.3982 - val_accuracy: 0.8268\n",
      "Epoch 167/200\n",
      "72/72 - 0s - loss: 0.3577 - accuracy: 0.8497 - val_loss: 0.4411 - val_accuracy: 0.8156\n",
      "Epoch 168/200\n",
      "72/72 - 0s - loss: 0.3605 - accuracy: 0.8441 - val_loss: 0.4063 - val_accuracy: 0.8045\n",
      "Epoch 169/200\n",
      "72/72 - 0s - loss: 0.3592 - accuracy: 0.8581 - val_loss: 0.5957 - val_accuracy: 0.8156\n",
      "Epoch 170/200\n",
      "72/72 - 0s - loss: 0.3745 - accuracy: 0.8413 - val_loss: 0.4008 - val_accuracy: 0.8380\n",
      "Epoch 171/200\n",
      "72/72 - 0s - loss: 0.3684 - accuracy: 0.8483 - val_loss: 0.4763 - val_accuracy: 0.8268\n",
      "Epoch 172/200\n",
      "72/72 - 0s - loss: 0.3886 - accuracy: 0.8371 - val_loss: 0.3827 - val_accuracy: 0.8212\n",
      "Epoch 173/200\n",
      "72/72 - 0s - loss: 0.3640 - accuracy: 0.8497 - val_loss: 0.3950 - val_accuracy: 0.8380\n",
      "Epoch 174/200\n",
      "72/72 - 0s - loss: 0.3600 - accuracy: 0.8483 - val_loss: 0.3953 - val_accuracy: 0.8156\n",
      "Epoch 175/200\n",
      "72/72 - 0s - loss: 0.3769 - accuracy: 0.8413 - val_loss: 0.4547 - val_accuracy: 0.8101\n",
      "Epoch 176/200\n",
      "72/72 - 0s - loss: 0.3801 - accuracy: 0.8343 - val_loss: 0.3995 - val_accuracy: 0.8101\n",
      "Epoch 177/200\n",
      "72/72 - 0s - loss: 0.3689 - accuracy: 0.8441 - val_loss: 0.4182 - val_accuracy: 0.8156\n",
      "Epoch 178/200\n",
      "72/72 - 0s - loss: 0.3598 - accuracy: 0.8596 - val_loss: 0.5603 - val_accuracy: 0.8101\n",
      "Epoch 179/200\n",
      "72/72 - 0s - loss: 0.3674 - accuracy: 0.8497 - val_loss: 0.6387 - val_accuracy: 0.7877\n",
      "Epoch 180/200\n",
      "72/72 - 0s - loss: 0.3834 - accuracy: 0.8357 - val_loss: 0.4534 - val_accuracy: 0.8268\n",
      "Epoch 181/200\n",
      "72/72 - 0s - loss: 0.3729 - accuracy: 0.8441 - val_loss: 0.5046 - val_accuracy: 0.8212\n",
      "Epoch 182/200\n",
      "72/72 - 0s - loss: 0.3705 - accuracy: 0.8413 - val_loss: 0.3910 - val_accuracy: 0.8156\n",
      "Epoch 183/200\n",
      "72/72 - 0s - loss: 0.3772 - accuracy: 0.8427 - val_loss: 0.4481 - val_accuracy: 0.8156\n",
      "Epoch 184/200\n",
      "72/72 - 0s - loss: 0.3666 - accuracy: 0.8483 - val_loss: 0.4849 - val_accuracy: 0.8101\n",
      "Epoch 185/200\n",
      "72/72 - 0s - loss: 0.3716 - accuracy: 0.8399 - val_loss: 0.4062 - val_accuracy: 0.8268\n",
      "Epoch 186/200\n",
      "72/72 - 0s - loss: 0.3795 - accuracy: 0.8413 - val_loss: 0.3863 - val_accuracy: 0.8324\n",
      "Epoch 187/200\n",
      "72/72 - 0s - loss: 0.4004 - accuracy: 0.8230 - val_loss: 0.4843 - val_accuracy: 0.8324\n",
      "Epoch 188/200\n",
      "72/72 - 0s - loss: 0.3739 - accuracy: 0.8539 - val_loss: 0.4040 - val_accuracy: 0.8268\n",
      "Epoch 189/200\n",
      "72/72 - 0s - loss: 0.3633 - accuracy: 0.8427 - val_loss: 0.3917 - val_accuracy: 0.8212\n",
      "Epoch 190/200\n",
      "72/72 - 0s - loss: 0.3613 - accuracy: 0.8455 - val_loss: 0.4527 - val_accuracy: 0.8380\n",
      "Epoch 191/200\n",
      "72/72 - 0s - loss: 0.3644 - accuracy: 0.8511 - val_loss: 0.4188 - val_accuracy: 0.8212\n",
      "Epoch 192/200\n",
      "72/72 - 0s - loss: 0.3693 - accuracy: 0.8455 - val_loss: 0.4136 - val_accuracy: 0.8101\n",
      "Epoch 193/200\n",
      "72/72 - 0s - loss: 0.3603 - accuracy: 0.8469 - val_loss: 0.3849 - val_accuracy: 0.8212\n",
      "Epoch 194/200\n",
      "72/72 - 0s - loss: 0.3650 - accuracy: 0.8525 - val_loss: 0.5869 - val_accuracy: 0.8212\n",
      "Epoch 195/200\n",
      "72/72 - 0s - loss: 0.3609 - accuracy: 0.8441 - val_loss: 0.3825 - val_accuracy: 0.8324\n",
      "Epoch 196/200\n",
      "72/72 - 0s - loss: 0.3572 - accuracy: 0.8539 - val_loss: 0.4000 - val_accuracy: 0.8212\n",
      "Epoch 197/200\n",
      "72/72 - 0s - loss: 0.3580 - accuracy: 0.8539 - val_loss: 0.3986 - val_accuracy: 0.8324\n",
      "Epoch 198/200\n",
      "72/72 - 0s - loss: 0.3677 - accuracy: 0.8427 - val_loss: 0.4953 - val_accuracy: 0.8268\n",
      "Epoch 199/200\n",
      "72/72 - 0s - loss: 0.3627 - accuracy: 0.8539 - val_loss: 0.5403 - val_accuracy: 0.8212\n",
      "Epoch 200/200\n",
      "72/72 - 0s - loss: 0.3630 - accuracy: 0.8553 - val_loss: 0.4626 - val_accuracy: 0.8268\n"
     ]
    }
   ],
   "source": [
    "history=model.fit(x,y,validation_split=0.2,epochs=200,batch_size=10,verbose=2)"
   ]
  },
  {
   "cell_type": "code",
   "execution_count": 74,
   "metadata": {},
   "outputs": [
    {
     "data": {
      "text/plain": [
       "<matplotlib.legend.Legend at 0x1ebf59e3370>"
      ]
     },
     "execution_count": 74,
     "metadata": {},
     "output_type": "execute_result"
    },
    {
     "data": {
      "image/png": "[encoded data removed]",
      "text/plain": [
       "<Figure size 432x288 with 1 Axes>"
      ]
     },
     "metadata": {
      "needs_background": "light"
     },
     "output_type": "display_data"
    }
   ],
   "source": [
    "fig1=plt.figure(1)\n",
    "plt.plot(history.history[\"accuracy\"])\n",
    "plt.plot(history.history[\"val_accuracy\"])\n",
    "plt.title(\"Model Accuracy\")\n",
    "plt.xlabel(\"Accuracy\")\n",
    "plt.ylabel(\"Epoch\")\n",
    "plt.legend([\"training\", \"testing\"], loc= \"upper left\")"
   ]
  },
  {
   "cell_type": "code",
   "execution_count": 75,
   "metadata": {
    "scrolled": true
   },
   "outputs": [
    {
     "data": {
      "text/plain": [
       "<function matplotlib.pyplot.show(close=None, block=None)>"
      ]
     },
     "execution_count": 75,
     "metadata": {},
     "output_type": "execute_result"
    },
    {
     "data": {
      "image/png": "[encoded data removed]",
      "text/plain": [
       "<Figure size 432x288 with 1 Axes>"
      ]
     },
     "metadata": {
      "needs_background": "light"
     },
     "output_type": "display_data"
    }
   ],
   "source": [
    "fig1=plt.figure(2)\n",
    "plt.plot(history.history[\"loss\"])\n",
    "plt.plot(history.history[\"val_loss\"])\n",
    "plt.title(\"Model Loss\")\n",
    "plt.xlabel(\"Loss\")\n",
    "plt.ylabel(\"Epoch\")\n",
    "plt.legend([\"training\", \"testing\"], loc= \"upper left\")\n",
    "\n",
    "plt.show"
   ]
  },
  {
   "cell_type": "code",
   "execution_count": null,
   "metadata": {},
   "outputs": [],
   "source": []
  }
 ],
 "metadata": {
  "kernelspec": {
   "display_name": "Python 3",
   "language": "python",
   "name": "python3"
  },
  "language_info": {
   "codemirror_mode": {
    "name": "ipython",
    "version": 3
   },
   "file_extension": ".py",
   "mimetype": "text/x-python",
   "name": "python",
   "nbconvert_exporter": "python",
   "pygments_lexer": "ipython3",
   "version": "3.8.5"
  }
 },
 "nbformat": 4,
 "nbformat_minor": 4
}
